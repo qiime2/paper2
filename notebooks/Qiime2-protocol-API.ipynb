{
 "cells": [
  {
   "cell_type": "markdown",
   "metadata": {},
   "source": [
    "# QIIME 2 enables comprehensive end-to-end analysis of diverse microbiome data and comparative studies with publicly available data\n",
    "\n",
    "this is a QIIME 2 Artifact API notebook which replicated the QIIME 2 CLI analyses\n",
    "\n",
    "**environment:** qiime2-2019.10"
   ]
  },
  {
   "cell_type": "markdown",
   "metadata": {},
   "source": [
    "## How to use this notebook:"
   ]
  },
  {
   "cell_type": "markdown",
   "metadata": {},
   "source": [
    "1. Activate the `qiime2-2019.10` conda environment.\n",
    "    ```\n",
    "    conda activate qiime2-2019.10\n",
    "    ```\n",
    "\n",
    "2. Make sure that `jupyter serverextensions` are enabled.  \n",
    "\n",
    "\n",
    "    Close this notebook and jupyter session, and run:  \n",
    "    `jupyter serverextension enable --py qiime2 --sys-prefix`  \n",
    "      \n",
    "3. Install additional dependencies:\n",
    "    ```\n",
    "    conda install songbird -c conda-forge\n",
    "    conda install -c conda-forge redbiom\n",
    "    conda install -c bioconda bowtie2\n",
    "    pip install https://github.com/knights-lab/SHOGUN/archive/master.zip\n",
    "    pip install https://github.com/qiime2/q2-shogun/archive/master.zip\n",
    "    conda install cytoolz\n",
    "    qiime dev refresh-cache\n",
    "    ```  \n",
    "\n",
    "4. Restart and run the notebook"
   ]
  },
  {
   "cell_type": "markdown",
   "metadata": {},
   "source": [
    "# import QIIME 2 plugins and other dependencies"
   ]
  },
  {
   "cell_type": "code",
   "execution_count": 1,
   "metadata": {},
   "outputs": [
    {
     "name": "stderr",
     "output_type": "stream",
     "text": [
      "/home/drz/Conda/envs/qiime2-2019.10/lib/python3.6/site-packages/tensorflow/python/framework/dtypes.py:516: FutureWarning: Passing (type, 1) or '1type' as a synonym of type is deprecated; in a future version of numpy, it will be understood as (type, (1,)) / '(1,)type'.\n",
      "  _np_qint8 = np.dtype([(\"qint8\", np.int8, 1)])\n",
      "/home/drz/Conda/envs/qiime2-2019.10/lib/python3.6/site-packages/tensorflow/python/framework/dtypes.py:517: FutureWarning: Passing (type, 1) or '1type' as a synonym of type is deprecated; in a future version of numpy, it will be understood as (type, (1,)) / '(1,)type'.\n",
      "  _np_quint8 = np.dtype([(\"quint8\", np.uint8, 1)])\n",
      "/home/drz/Conda/envs/qiime2-2019.10/lib/python3.6/site-packages/tensorflow/python/framework/dtypes.py:518: FutureWarning: Passing (type, 1) or '1type' as a synonym of type is deprecated; in a future version of numpy, it will be understood as (type, (1,)) / '(1,)type'.\n",
      "  _np_qint16 = np.dtype([(\"qint16\", np.int16, 1)])\n",
      "/home/drz/Conda/envs/qiime2-2019.10/lib/python3.6/site-packages/tensorflow/python/framework/dtypes.py:519: FutureWarning: Passing (type, 1) or '1type' as a synonym of type is deprecated; in a future version of numpy, it will be understood as (type, (1,)) / '(1,)type'.\n",
      "  _np_quint16 = np.dtype([(\"quint16\", np.uint16, 1)])\n",
      "/home/drz/Conda/envs/qiime2-2019.10/lib/python3.6/site-packages/tensorflow/python/framework/dtypes.py:520: FutureWarning: Passing (type, 1) or '1type' as a synonym of type is deprecated; in a future version of numpy, it will be understood as (type, (1,)) / '(1,)type'.\n",
      "  _np_qint32 = np.dtype([(\"qint32\", np.int32, 1)])\n",
      "/home/drz/Conda/envs/qiime2-2019.10/lib/python3.6/site-packages/tensorflow/python/framework/dtypes.py:525: FutureWarning: Passing (type, 1) or '1type' as a synonym of type is deprecated; in a future version of numpy, it will be understood as (type, (1,)) / '(1,)type'.\n",
      "  np_resource = np.dtype([(\"resource\", np.ubyte, 1)])\n",
      "/home/drz/Conda/envs/qiime2-2019.10/lib/python3.6/site-packages/tensorboard/compat/tensorflow_stub/dtypes.py:541: FutureWarning: Passing (type, 1) or '1type' as a synonym of type is deprecated; in a future version of numpy, it will be understood as (type, (1,)) / '(1,)type'.\n",
      "  _np_qint8 = np.dtype([(\"qint8\", np.int8, 1)])\n",
      "/home/drz/Conda/envs/qiime2-2019.10/lib/python3.6/site-packages/tensorboard/compat/tensorflow_stub/dtypes.py:542: FutureWarning: Passing (type, 1) or '1type' as a synonym of type is deprecated; in a future version of numpy, it will be understood as (type, (1,)) / '(1,)type'.\n",
      "  _np_quint8 = np.dtype([(\"quint8\", np.uint8, 1)])\n",
      "/home/drz/Conda/envs/qiime2-2019.10/lib/python3.6/site-packages/tensorboard/compat/tensorflow_stub/dtypes.py:543: FutureWarning: Passing (type, 1) or '1type' as a synonym of type is deprecated; in a future version of numpy, it will be understood as (type, (1,)) / '(1,)type'.\n",
      "  _np_qint16 = np.dtype([(\"qint16\", np.int16, 1)])\n",
      "/home/drz/Conda/envs/qiime2-2019.10/lib/python3.6/site-packages/tensorboard/compat/tensorflow_stub/dtypes.py:544: FutureWarning: Passing (type, 1) or '1type' as a synonym of type is deprecated; in a future version of numpy, it will be understood as (type, (1,)) / '(1,)type'.\n",
      "  _np_quint16 = np.dtype([(\"quint16\", np.uint16, 1)])\n",
      "/home/drz/Conda/envs/qiime2-2019.10/lib/python3.6/site-packages/tensorboard/compat/tensorflow_stub/dtypes.py:545: FutureWarning: Passing (type, 1) or '1type' as a synonym of type is deprecated; in a future version of numpy, it will be understood as (type, (1,)) / '(1,)type'.\n",
      "  _np_qint32 = np.dtype([(\"qint32\", np.int32, 1)])\n",
      "/home/drz/Conda/envs/qiime2-2019.10/lib/python3.6/site-packages/tensorboard/compat/tensorflow_stub/dtypes.py:550: FutureWarning: Passing (type, 1) or '1type' as a synonym of type is deprecated; in a future version of numpy, it will be understood as (type, (1,)) / '(1,)type'.\n",
      "  np_resource = np.dtype([(\"resource\", np.ubyte, 1)])\n"
     ]
    }
   ],
   "source": [
    "import qiime2\n",
    "import warnings\n",
    "warnings.filterwarnings('ignore')\n",
    "\n",
    "# all plugins that are being used throughout this notebook are imported here\n",
    "from qiime2.plugins import composition, \\\n",
    "                           deblur, \\\n",
    "                           demux, \\\n",
    "                           diversity, \\\n",
    "                           feature_classifier, \\\n",
    "                           feature_table, \\\n",
    "                           fragment_insertion, \\\n",
    "                           longitudinal, \\\n",
    "                           metadata, \\\n",
    "                           quality_filter, \\\n",
    "                           shogun, \\\n",
    "                           songbird, \\\n",
    "                           taxa"
   ]
  },
  {
   "cell_type": "markdown",
   "metadata": {},
   "source": [
    "## Acquire data from ECAM study "
   ]
  },
  {
   "cell_type": "markdown",
   "metadata": {},
   "source": [
    "define the working directory"
   ]
  },
  {
   "cell_type": "code",
   "execution_count": 2,
   "metadata": {},
   "outputs": [],
   "source": [
    "workdir='./'"
   ]
  },
  {
   "cell_type": "code",
   "execution_count": 3,
   "metadata": {},
   "outputs": [],
   "source": [
    "!mkdir $workdir/qiime2-ecam-tutorial-api\n",
    "!cd $workdir/qiime2-ecam-tutorial-api"
   ]
  },
  {
   "cell_type": "code",
   "execution_count": 4,
   "metadata": {},
   "outputs": [
    {
     "name": "stdout",
     "output_type": "stream",
     "text": [
      "--2020-01-13 16:20:30--  https://qiita.ucsd.edu/public_artifact_download/?artifact_id=81253\n",
      "Resolving qiita.ucsd.edu (qiita.ucsd.edu)... 169.228.46.38\n",
      "Connecting to qiita.ucsd.edu (qiita.ucsd.edu)|169.228.46.38|:443... connected.\n",
      "HTTP request sent, awaiting response... 200 OK\n",
      "Length: 1116152564 (1.0G) [application/zip]\n",
      "Saving to: ‘.//81253.zip’\n",
      "\n",
      ".//81253.zip        100%[===================>]   1.04G  2.89MB/s    in 6m 33s  \n",
      "\n",
      "2020-01-13 16:27:03 (2.71 MB/s) - ‘.//81253.zip’ saved [1116152564/1116152564]\n",
      "\n"
     ]
    }
   ],
   "source": [
    "# NOTE: the file is 1.04GB in size\n",
    "!wget -O $workdir/81253.zip \"https://qiita.ucsd.edu/public_artifact_download/?artifact_id=81253\""
   ]
  },
  {
   "cell_type": "code",
   "execution_count": 5,
   "metadata": {},
   "outputs": [
    {
     "name": "stdout",
     "output_type": "stream",
     "text": [
      "Archive:  .//81253.zip\n",
      " extracting: per_sample_FASTQ/81253/10249.C018.01SS.r.fastq.gz   bad CRC 408b78ca  (should be 82882250)\n",
      " extracting: per_sample_FASTQ/81253/10249.C030.01SS.r.fastq.gz   bad CRC 2746113c  (should be 58903356)\n",
      " extracting: per_sample_FASTQ/81253/10249.C031.01SS.r.fastq.gz   bad CRC 32768cb1  (should be 46630065)\n",
      " extracting: per_sample_FASTQ/81253/10249.C022.01SS.r.fastq.gz   bad CRC c9d8e76c  (should be 86435436)\n",
      " extracting: per_sample_FASTQ/81253/10249.C010.01SS.r.fastq.gz   bad CRC 56f95c51  (should be 59182673)\n",
      " extracting: per_sample_FASTQ/81253/10249.C014.01SS.r.fastq.gz   bad CRC 549966a6  (should be 19339430)\n",
      " extracting: per_sample_FASTQ/81253/10249.C043.01SS.r.fastq.gz   bad CRC 7da85b6d  (should be 08185453)\n",
      " extracting: per_sample_FASTQ/81253/10249.C020.01SS.r.fastq.gz   bad CRC 045eb75a  (should be 73316186)\n",
      " extracting: per_sample_FASTQ/81253/10249.C035.01SS.r.fastq.gz   bad CRC 4dff8d5c  (should be 08593500)\n",
      " extracting: per_sample_FASTQ/81253/10249.C023.01SS.r.fastq.gz   bad CRC bcb0f106  (should be 65712646)\n",
      " extracting: per_sample_FASTQ/81253/10249.C005.01SS.r.fastq.gz   bad CRC db14f17f  (should be 75582847)\n",
      " extracting: per_sample_FASTQ/81253/10249.C042.01SS.r.fastq.gz   bad CRC f2396ac3  (should be 63849155)\n",
      " extracting: per_sample_FASTQ/81253/10249.C025.01SS.r.fastq.gz   bad CRC fd89dfab  (should be 53671339)\n",
      " extracting: per_sample_FASTQ/81253/10249.C012.01SS.r.fastq.gz   bad CRC 31e1259e  (should be 36838814)\n",
      " extracting: per_sample_FASTQ/81253/10249.C041.01SS.r.fastq.gz   bad CRC 568c3c6d  (should be 52031085)\n",
      " extracting: per_sample_FASTQ/81253/10249.C027.01SS.r.fastq.gz   bad CRC 523c1166  (should be 79668326)\n",
      " extracting: per_sample_FASTQ/81253/10249.C033.01SS.r.fastq.gz   bad CRC 379d6a18  (should be 33063192)\n",
      " extracting: per_sample_FASTQ/81253/10249.C017.01SS.r.fastq.gz   bad CRC 1ffc1cc3  (should be 36616131)\n",
      " extracting: per_sample_FASTQ/81253/10249.C038.01SS.r.fastq.gz   bad CRC c245f596  (should be 59364758)\n",
      " extracting: per_sample_FASTQ/81253/10249.C037.01SS.r.fastq.gz   bad CRC 1bd8e503  (should be 67199235)\n",
      " extracting: per_sample_FASTQ/81253/10249.C002.01SS.r.fastq.gz   bad CRC 2723be5e  (should be 56653918)\n",
      " extracting: per_sample_FASTQ/81253/10249.C036.01SS.r.fastq.gz   bad CRC 0efa3d37  (should be 51280695)\n",
      " extracting: per_sample_FASTQ/81253/10249.C024.01SS.r.fastq.gz   bad CRC 189c7ae9  (should be 12908265)\n",
      " extracting: per_sample_FASTQ/81253/10249.C001.20SS.fastq.gz   bad CRC d26bb69d  (should be 30274461)\n",
      " extracting: per_sample_FASTQ/81253/10249.C016.02SS.fastq.gz   bad CRC 12e7be28  (should be 17177384)\n",
      " extracting: per_sample_FASTQ/81253/10249.C005.14SS.fastq.gz   bad CRC 3a1edd74  (should be 75101300)\n",
      " extracting: per_sample_FASTQ/81253/10249.C020.12SS.fastq.gz   bad CRC c7b4abe9  (should be 50506473)\n",
      " extracting: per_sample_FASTQ/81253/10249.C033.06SS.fastq.gz   bad CRC 0370c0b3  (should be 57721011)\n",
      " extracting: per_sample_FASTQ/81253/10249.C052.08SS.fastq.gz   bad CRC 14d2b973  (should be 49354355)\n",
      " extracting: per_sample_FASTQ/81253/10249.M008.01SS.fastq.gz   bad CRC 710e4eb3  (should be 96763059)\n",
      " extracting: per_sample_FASTQ/81253/10249.C047.08SS.fastq.gz   bad CRC e8312b25  (should be 95536421)\n",
      " extracting: per_sample_FASTQ/81253/10249.C011.01SS.fastq.gz   bad CRC 66f3186a  (should be 27207530)\n",
      " extracting: per_sample_FASTQ/81253/10249.M027.01SS.fastq.gz   bad CRC 59f4896e  (should be 09198190)\n",
      " extracting: per_sample_FASTQ/81253/10249.C012.22SD.fastq.gz   bad CRC 13361fb9  (should be 22314169)\n",
      " extracting: per_sample_FASTQ/81253/10249.C011.06SS.fastq.gz   bad CRC 05f28f58  (should be 99782488)\n",
      " extracting: per_sample_FASTQ/81253/10249.C027.01SS.fastq.gz   bad CRC c7adf6c4  (should be 50066884)\n",
      " extracting: per_sample_FASTQ/81253/10249.C012.01SS.fastq.gz   bad CRC 670c4b90  (should be 28859024)\n",
      " extracting: per_sample_FASTQ/81253/10249.C005.20SS.fastq.gz   bad CRC 260bb174  (should be 38300532)\n",
      " extracting: per_sample_FASTQ/81253/10249.C022.19SS.fastq.gz   bad CRC b8282835  (should be 89639477)\n",
      " extracting: per_sample_FASTQ/81253/10249.C024.15SS.fastq.gz   bad CRC 1c9d362c  (should be 80065068)\n",
      " extracting: per_sample_FASTQ/81253/10249.C030.08SS.fastq.gz   bad CRC 9a8d41d7  (should be 92948695)\n",
      " extracting: per_sample_FASTQ/81253/10249.C033.14SS.fastq.gz   bad CRC e0643941  (should be 64664641)\n",
      " extracting: per_sample_FASTQ/81253/10249.C049.01SS.fastq.gz   bad CRC 9adad036  (should be 98031414)\n",
      " extracting: per_sample_FASTQ/81253/10249.C041.01SS.fastq.gz   bad CRC 9c8cd115  (should be 26474261)\n",
      " extracting: per_sample_FASTQ/81253/10249.C014.20SS.fastq.gz   bad CRC fd6e1b5c  (should be 51851612)\n",
      " extracting: per_sample_FASTQ/81253/10249.C025.01SS.fastq.gz   bad CRC f5a21178  (should be 21039224)\n",
      " extracting: per_sample_FASTQ/81253/10249.C035.07SD.fastq.gz   bad CRC 4c359daf  (should be 78582191)\n",
      " extracting: per_sample_FASTQ/81253/10249.M031.01SS.fastq.gz   bad CRC 5fc29354  (should be 06587220)\n",
      " extracting: per_sample_FASTQ/81253/10249.M012.01SS.fastq.gz   bad CRC b27f74ce  (should be 94697422)\n",
      " extracting: per_sample_FASTQ/81253/10249.M031.02SS.fastq.gz   bad CRC 8fa5756e  (should be 09985390)\n",
      " extracting: per_sample_FASTQ/81253/10249.C022.01SS.fastq.gz   bad CRC 3cb2ccbe  (should be 18350782)\n",
      " extracting: per_sample_FASTQ/81253/10249.C032.22SS.fastq.gz   bad CRC e2ba4414  (should be 03857940)\n",
      " extracting: per_sample_FASTQ/81253/10249.M045.02SS.fastq.gz   bad CRC f0530612  (should be 31972882)\n",
      " extracting: per_sample_FASTQ/81253/10249.C008.12SS.fastq.gz   bad CRC f29b479a  (should be 70262682)\n",
      " extracting: per_sample_FASTQ/81253/10249.M055.01SD.fastq.gz   bad CRC 955f7d67  (should be 06063207)\n",
      " extracting: per_sample_FASTQ/81253/10249.M011.01SS.fastq.gz   bad CRC 85b0db4f  (should be 42960207)\n",
      " extracting: per_sample_FASTQ/81253/10249.M007.01SS.fastq.gz   bad CRC f76ac911  (should be 50970641)\n",
      " extracting: per_sample_FASTQ/81253/10249.C020.02SS.fastq.gz   bad CRC e29a1ebb  (should be 01751227)\n",
      " extracting: per_sample_FASTQ/81253/10249.C011.12SS.fastq.gz   bad CRC 86686472  (should be 54988402)\n",
      " extracting: per_sample_FASTQ/81253/10249.M050.01SS.fastq.gz   bad CRC e4a1a81e  (should be 35799582)\n",
      " extracting: per_sample_FASTQ/81253/10249.C018.12SD.fastq.gz   bad CRC 4b52a318  (should be 63706904)\n",
      " extracting: per_sample_FASTQ/81253/10249.C009.01SS.fastq.gz   bad CRC a001036d  (should be 84420973)\n",
      " extracting: per_sample_FASTQ/81253/10249.C022.13SS.fastq.gz   bad CRC a89cf0c9  (should be 28857545)\n",
      " extracting: per_sample_FASTQ/81253/10249.C038.14SS.fastq.gz   bad CRC 53162008  (should be 93958920)\n",
      " extracting: per_sample_FASTQ/81253/10249.C035.07SS.fastq.gz   bad CRC 30592a01  (should be 11149825)\n",
      " extracting: per_sample_FASTQ/81253/10249.M047.01SD.fastq.gz   bad CRC adac587c  (should be 13753212)\n",
      " extracting: per_sample_FASTQ/81253/10249.C014.20SD.fastq.gz   bad CRC 251b5359  (should be 22547801)\n",
      " extracting: per_sample_FASTQ/81253/10249.C008.07SS.fastq.gz   bad CRC 845d2d4e  (should be 20698958)\n",
      " extracting: per_sample_FASTQ/81253/10249.C049.02SD.fastq.gz   bad CRC 87b51589  (should be 76791689)\n",
      " extracting: per_sample_FASTQ/81253/10249.C002.08SS.fastq.gz   bad CRC 45e219b5  (should be 72445621)\n",
      " extracting: per_sample_FASTQ/81253/10249.C020.18SS.fastq.gz   bad CRC d8dbac28  (should be 38275112)\n",
      " extracting: per_sample_FASTQ/81253/10249.C009.19SS.fastq.gz   bad CRC fcaf672c  (should be 39353644)\n",
      " extracting: per_sample_FASTQ/81253/10249.C021.10SS.fastq.gz   bad CRC f3a47af5  (should be 87642869)\n",
      " extracting: per_sample_FASTQ/81253/10249.C049.02SS.fastq.gz   bad CRC 0eac2ad1  (should be 46164177)\n",
      " extracting: per_sample_FASTQ/81253/10249.C055.01SS.fastq.gz   bad CRC 0c37eaf1  (should be 04991217)\n",
      " extracting: per_sample_FASTQ/81253/10249.C041.08SS.fastq.gz   bad CRC d99ba828  (should be 50857000)\n",
      " extracting: per_sample_FASTQ/81253/10249.C018.06SS.fastq.gz   bad CRC f670ac45  (should be 34579269)\n",
      " extracting: per_sample_FASTQ/81253/10249.C002.13SS.fastq.gz   bad CRC 28acbbb4  (should be 82408884)\n",
      " extracting: per_sample_FASTQ/81253/10249.C014.01SS.fastq.gz   bad CRC de8e957b  (should be 33886331)\n",
      " extracting: per_sample_FASTQ/81253/10249.C056.01SS.fastq.gz   bad CRC 3f3a4f06  (should be 60785926)\n",
      " extracting: per_sample_FASTQ/81253/10249.M057.01SS.fastq.gz   bad CRC da0acf02  (should be 58141442)\n"
     ]
    },
    {
     "name": "stdout",
     "output_type": "stream",
     "text": [
      " extracting: per_sample_FASTQ/81253/10249.C032.15SS.fastq.gz   bad CRC 3ce7b59f  (should be 21818271)\n",
      " extracting: per_sample_FASTQ/81253/10249.M055.01SS.fastq.gz   bad CRC 84748e24  (should be 22231076)\n",
      " extracting: per_sample_FASTQ/81253/10249.M043.01SS.fastq.gz   bad CRC 2c4f52b3  (should be 43396019)\n",
      " extracting: per_sample_FASTQ/81253/10249.C016.09SS.fastq.gz   bad CRC 0abe65e5  (should be 80250085)\n",
      " extracting: per_sample_FASTQ/81253/10249.C044.01SS.fastq.gz   bad CRC d1cd7637  (should be 19903287)\n",
      " extracting: per_sample_FASTQ/81253/10249.C007.23SD.fastq.gz   bad CRC 73c8d981  (should be 42542721)\n",
      " extracting: per_sample_FASTQ/81253/10249.C010.20SD.fastq.gz   bad CRC 09912103  (should be 60506115)\n",
      " extracting: per_sample_FASTQ/81253/10249.C049.09SS.fastq.gz   bad CRC 804ee66f  (should be 52654447)\n",
      " extracting: per_sample_FASTQ/81253/10249.M044.01SS.fastq.gz   bad CRC 46ceef24  (should be 87966756)\n",
      " extracting: per_sample_FASTQ/81253/10249.C016.01SS.fastq.gz   bad CRC ac09ef79  (should be 86332281)\n",
      " extracting: per_sample_FASTQ/81253/10249.C020.01SS.fastq.gz   bad CRC e9a5064c  (should be 19906380)\n",
      " extracting: per_sample_FASTQ/81253/10249.C035.13SS.fastq.gz   bad CRC d4443743  (should be 61240387)\n",
      " extracting: per_sample_FASTQ/81253/10249.C025.14SD.fastq.gz   bad CRC 271e1ffd  (should be 56285693)\n",
      " extracting: per_sample_FASTQ/81253/10249.C004.15SS.fastq.gz   bad CRC 6949e92f  (should be 66451503)\n",
      " extracting: per_sample_FASTQ/81253/10249.C024.21SS.fastq.gz   bad CRC e57b8648  (should be 50077768)\n",
      " extracting: per_sample_FASTQ/81253/10249.C010.20SS.fastq.gz   bad CRC a0942601  (should be 94063617)\n",
      " extracting: per_sample_FASTQ/81253/10249.M036.01SS.fastq.gz   bad CRC 0d42475c  (should be 22447452)\n",
      " extracting: per_sample_FASTQ/81253/10249.M053.01SD.fastq.gz   bad CRC 905d22f4  (should be 22022900)\n",
      " extracting: per_sample_FASTQ/81253/10249.C012.21SS.fastq.gz   bad CRC a2e65061  (should be 33002849)\n",
      " extracting: per_sample_FASTQ/81253/10249.C007.01SS.fastq.gz   bad CRC 2e93e2d8  (should be 81443800)\n",
      " extracting: per_sample_FASTQ/81253/10249.C036.12SS.fastq.gz   bad CRC 697524e6  (should be 69284838)\n",
      " extracting: per_sample_FASTQ/81253/10249.C007.17SS.fastq.gz   bad CRC 34a6cbd5  (should be 83346389)\n",
      " extracting: per_sample_FASTQ/81253/10249.M002.01SS.fastq.gz   bad CRC 87e16f95  (should be 79698325)\n",
      " extracting: per_sample_FASTQ/81253/10249.C012.22SS.fastq.gz   bad CRC 9b62a401  (should be 06932993)\n",
      " extracting: per_sample_FASTQ/81253/10249.C016.22SS.fastq.gz   bad CRC a8f469d0  (should be 34590160)\n",
      " extracting: per_sample_FASTQ/81253/10249.C042.01SS.fastq.gz   bad CRC 4e082f8b  (should be 09159307)\n",
      " extracting: per_sample_FASTQ/81253/10249.C004.01SS.fastq.gz   bad CRC f833bfdd  (should be 64141021)\n",
      " extracting: per_sample_FASTQ/81253/10249.C011.19SS.fastq.gz   bad CRC 14c8c267  (should be 48701287)\n",
      " extracting: per_sample_FASTQ/81253/10249.C031.08SS.fastq.gz   bad CRC 5d56d086  (should be 65970566)\n",
      " extracting: per_sample_FASTQ/81253/10249.M053.01SS.fastq.gz   bad CRC 5b857092  (should be 35471762)\n",
      " extracting: per_sample_FASTQ/81253/10249.C030.01SS.fastq.gz   bad CRC b3abdf9a  (should be 14385562)\n",
      " extracting: per_sample_FASTQ/81253/10249.M020.01SS.fastq.gz   bad CRC 6e81f2b0  (should be 54010032)\n",
      " extracting: per_sample_FASTQ/81253/10249.C042.07SS.fastq.gz   bad CRC a2d10c08  (should be 31609096)\n",
      " extracting: per_sample_FASTQ/81253/10249.C008.01SS.fastq.gz   bad CRC e7f236b3  (should be 91410611)\n",
      " extracting: per_sample_FASTQ/81253/10249.C024.01SS.fastq.gz   bad CRC c8f9ccd7  (should be 71814103)\n",
      " extracting: per_sample_FASTQ/81253/10249.C008.06SS.fastq.gz   bad CRC 381ca4aa  (should be 41401258)\n",
      " extracting: per_sample_FASTQ/81253/10249.C053.08SS.fastq.gz   bad CRC a655dcbc  (should be 90644924)\n",
      " extracting: per_sample_FASTQ/81253/10249.C027.15SS.fastq.gz   bad CRC 77f98ee6  (should be 12843750)\n",
      " extracting: per_sample_FASTQ/81253/10249.C012.15SS.fastq.gz   bad CRC e152f095  (should be 80309141)\n",
      " extracting: per_sample_FASTQ/81253/10249.C010.09SS.fastq.gz   bad CRC 8845ff2f  (should be 86288687)\n",
      " extracting: per_sample_FASTQ/81253/10249.C018.12SS.fastq.gz   bad CRC 2d5e974b  (should be 61173835)\n",
      " extracting: per_sample_FASTQ/81253/10249.C022.07SS.fastq.gz   bad CRC a52ae227  (should be 71051047)\n",
      " extracting: per_sample_FASTQ/81253/10249.C027.21SS.fastq.gz   bad CRC dc27f191  (should be 93605265)\n",
      " extracting: per_sample_FASTQ/81253/10249.C031.21SS.fastq.gz   bad CRC bcf15456  (should be 69932374)\n",
      " extracting: per_sample_FASTQ/81253/10249.C044.08SS.fastq.gz   bad CRC a6b8f578  (should be 97139320)\n",
      " extracting: per_sample_FASTQ/81253/10249.M046.01SS.fastq.gz   bad CRC 3b4941ee  (should be 94656750)\n",
      " extracting: per_sample_FASTQ/81253/10249.C038.01SS.fastq.gz   bad CRC 24494ddb  (should be 08783835)\n",
      " extracting: per_sample_FASTQ/81253/10249.C012.09SS.fastq.gz   bad CRC f789f045  (should be 53012293)\n",
      " extracting: per_sample_FASTQ/81253/10249.M035.01SS.fastq.gz   bad CRC 328ba464  (should be 48012388)\n",
      " extracting: per_sample_FASTQ/81253/10249.M056.01SD.fastq.gz   bad CRC 145e5940  (should be 41727552)\n",
      " extracting: per_sample_FASTQ/81253/10249.C043.07SS.fastq.gz   bad CRC 095e3260  (should be 57168224)\n",
      " extracting: per_sample_FASTQ/81253/10249.C031.14SS.fastq.gz   bad CRC ac8620ac  (should be 94471340)\n",
      " extracting: per_sample_FASTQ/81253/10249.M049.01SS.fastq.gz   bad CRC 6b58e468  (should be 00987752)\n",
      " extracting: per_sample_FASTQ/81253/10249.C034.08SS.fastq.gz   bad CRC 5040426d  (should be 46388589)\n",
      " extracting: per_sample_FASTQ/81253/10249.C045.13SS.fastq.gz   bad CRC dd1b4e06  (should be 09554182)\n",
      " extracting: per_sample_FASTQ/81253/10249.C001.19SS.fastq.gz   bad CRC e9cf0269  (should be 22657897)\n",
      " extracting: per_sample_FASTQ/81253/10249.C017.02SS.fastq.gz   bad CRC 623c738f  (should be 48128911)\n",
      " extracting: per_sample_FASTQ/81253/10249.M038.01SS.fastq.gz   bad CRC f2099d7a  (should be 60716410)\n",
      " extracting: per_sample_FASTQ/81253/10249.C038.08SS.fastq.gz   bad CRC ddda2816  (should be 22061846)\n",
      " extracting: per_sample_FASTQ/81253/10249.C046.13SS.fastq.gz   bad CRC 87faa9c8  (should be 81351624)\n",
      " extracting: per_sample_FASTQ/81253/10249.M018.01SS.fastq.gz   bad CRC 897e5d88  (should be 06760072)\n",
      " extracting: per_sample_FASTQ/81253/10249.C018.17SS.fastq.gz   bad CRC 446fe96b  (should be 48184939)\n",
      " extracting: per_sample_FASTQ/81253/10249.C002.19SS.fastq.gz   bad CRC 27d2102b  (should be 68078123)\n",
      " extracting: per_sample_FASTQ/81253/10249.C030.14SS.fastq.gz   bad CRC 2de86e8b  (should be 70207371)\n",
      " extracting: per_sample_FASTQ/81253/10249.C037.13SD.fastq.gz   bad CRC c3009c21  (should be 71597089)\n",
      " extracting: per_sample_FASTQ/81253/10249.M004.01SS.fastq.gz   bad CRC 32df0638  (should be 53476920)\n",
      " extracting: per_sample_FASTQ/81253/10249.C005.08SS.fastq.gz   bad CRC a38d026b  (should be 43927403)\n",
      " extracting: per_sample_FASTQ/81253/10249.M042.01SS.fastq.gz   bad CRC 34c8149e  (should be 85527710)\n",
      " extracting: per_sample_FASTQ/81253/10249.C002.19SD.fastq.gz   bad CRC d51aadb7  (should be 75295415)\n",
      " extracting: per_sample_FASTQ/81253/10249.M056.01SS.fastq.gz   bad CRC 26423087  (should be 41872007)\n",
      " extracting: per_sample_FASTQ/81253/10249.M032.01SS.fastq.gz   bad CRC 51bab958  (should be 71191640)\n",
      " extracting: per_sample_FASTQ/81253/10249.C001.10SS.fastq.gz   bad CRC 434de708  (should be 29178888)\n",
      " extracting: per_sample_FASTQ/81253/10249.M046.03SS.fastq.gz   bad CRC 37b6a068  (should be 34715496)\n",
      " extracting: per_sample_FASTQ/81253/10249.C020.03SS.fastq.gz   bad CRC 0a20b810  (should be 69916432)\n",
      " extracting: per_sample_FASTQ/81253/10249.C007.08SS.fastq.gz   bad CRC 8320cb15  (should be 99964437)\n",
      " extracting: per_sample_FASTQ/81253/10249.C042.13SS.fastq.gz   bad CRC ffa7ea5f  (should be 89194591)\n",
      " extracting: per_sample_FASTQ/81253/10249.M021.01SS.fastq.gz   bad CRC 23c8bf10  (should be 00358672)\n",
      " extracting: per_sample_FASTQ/81253/10249.C018.01SS.fastq.gz   bad CRC c29390c6  (should be 64450758)\n",
      " extracting: per_sample_FASTQ/81253/10249.C046.01SS.fastq.gz   bad CRC 32e08e65  (should be 53577317)\n",
      " extracting: per_sample_FASTQ/81253/10249.C017.01SS.fastq.gz   bad CRC 1af1fa34  (should be 52065844)\n",
      " extracting: per_sample_FASTQ/81253/10249.C043.14SS.fastq.gz   bad CRC a5f79811  (should be 84466961)\n",
      " extracting: per_sample_FASTQ/81253/10249.C010.01SS.fastq.gz   bad CRC 5bd97fab  (should be 40980651)\n"
     ]
    },
    {
     "name": "stdout",
     "output_type": "stream",
     "text": [
      " extracting: per_sample_FASTQ/81253/10249.C046.07SS.fastq.gz   bad CRC a5b95e82  (should be 80388994)\n",
      " extracting: per_sample_FASTQ/81253/10249.C037.01SS.fastq.gz   bad CRC fd345391  (should be 48064913)\n",
      " extracting: per_sample_FASTQ/81253/10249.C001.01SS.fastq.gz   bad CRC 51be6d84  (should be 71434372)\n",
      " extracting: per_sample_FASTQ/81253/10249.C001.34SD.fastq.gz   bad CRC 4691b47c  (should be 83954044)\n",
      " extracting: per_sample_FASTQ/81253/10249.M022.01SS.fastq.gz   bad CRC 0519cb82  (should be 85576578)\n",
      " extracting: per_sample_FASTQ/81253/10249.C035.01SS.fastq.gz   bad CRC 6f57a5bb  (should be 68015035)\n",
      " extracting: per_sample_FASTQ/81253/10249.C034.14SS.fastq.gz   bad CRC 62d2673d  (should be 57956157)\n",
      " extracting: per_sample_FASTQ/81253/10249.M024.01SS.fastq.gz   bad CRC 1c50bc17  (should be 75053079)\n",
      " extracting: per_sample_FASTQ/81253/10249.C025.08SS.fastq.gz   bad CRC b4b3fce0  (should be 31694560)\n",
      " extracting: per_sample_FASTQ/81253/10249.C043.01SS.fastq.gz   bad CRC 7561fe2e  (should be 69356334)\n",
      " extracting: per_sample_FASTQ/81253/10249.C037.13SS.fastq.gz   bad CRC 41b63665  (should be 02460517)\n",
      " extracting: per_sample_FASTQ/81253/10249.C012.21SD.fastq.gz   bad CRC 7ab72eba  (should be 58825402)\n",
      " extracting: per_sample_FASTQ/81253/10249.C021.02SS.fastq.gz   bad CRC ec961c10  (should be 69260560)\n",
      " extracting: per_sample_FASTQ/81253/10249.C033.01SS.fastq.gz   bad CRC a8782561  (should be 26446177)\n",
      " extracting: per_sample_FASTQ/81253/10249.M016.01SS.fastq.gz   bad CRC 532e1543  (should be 95529027)\n",
      " extracting: per_sample_FASTQ/81253/10249.C025.20SS.fastq.gz   bad CRC 68ea0cc6  (should be 60169158)\n",
      " extracting: per_sample_FASTQ/81253/10249.C056.09SS.fastq.gz   bad CRC 0f953dab  (should be 61438891)\n",
      " extracting: per_sample_FASTQ/81253/10249.C017.10SS.fastq.gz   bad CRC 725a5a15  (should be 18523925)\n",
      " extracting: per_sample_FASTQ/81253/10249.C020.05SS.fastq.gz   bad CRC a038aa66  (should be 88068198)\n",
      " extracting: per_sample_FASTQ/81253/10249.C027.07SS.fastq.gz   bad CRC e13d2bcb  (should be 78882507)\n",
      " extracting: per_sample_FASTQ/81253/10249.C046.07SD.fastq.gz   bad CRC 191b8ac3  (should be 21235395)\n",
      " extracting: per_sample_FASTQ/81253/10249.C014.07SS.fastq.gz   bad CRC 019a5c93  (should be 26893459)\n",
      " extracting: per_sample_FASTQ/81253/10249.C021.06SS.fastq.gz   bad CRC b3244ecf  (should be 05501135)\n",
      " extracting: per_sample_FASTQ/81253/10249.C016.15SS.fastq.gz   bad CRC 58239fa7  (should be 78729639)\n",
      " extracting: per_sample_FASTQ/81253/10249.M014.01SS.fastq.gz   bad CRC 35219a84  (should be 91394692)\n",
      " extracting: per_sample_FASTQ/81253/10249.C010.15SS.fastq.gz   bad CRC dabb361d  (should be 69702173)\n",
      " extracting: per_sample_FASTQ/81253/10249.C014.13SS.fastq.gz   bad CRC bb912880  (should be 46852480)\n",
      " extracting: per_sample_FASTQ/81253/10249.C032.01SS.fastq.gz   bad CRC e024761b  (should be 60485915)\n",
      " extracting: per_sample_FASTQ/81253/10249.M001.03SS.fastq.gz   bad CRC 86532048  (should be 53594696)\n",
      " extracting: per_sample_FASTQ/81253/10249.C024.09SS.fastq.gz   bad CRC 3a4e0b44  (should be 78193220)\n",
      " extracting: per_sample_FASTQ/81253/10249.C017.03SS.fastq.gz   bad CRC 638c61f9  (should be 70144505)\n",
      " extracting: per_sample_FASTQ/81253/10249.C055.08SS.fastq.gz   bad CRC 82be51f6  (should be 93510902)\n",
      " extracting: per_sample_FASTQ/81253/10249.C004.07SS.fastq.gz   bad CRC bae0c7e2  (should be 35293410)\n",
      " extracting: per_sample_FASTQ/81253/10249.M057.01SD.fastq.gz   bad CRC b9f13982  (should be 19593858)\n",
      " extracting: per_sample_FASTQ/81253/10249.M052.01SS.fastq.gz   bad CRC f32d5b01  (should be 79835905)\n",
      " extracting: per_sample_FASTQ/81253/10249.M033.01SS.fastq.gz   bad CRC 2fa26612  (should be 99172114)\n",
      " extracting: per_sample_FASTQ/81253/10249.M010.01SS.fastq.gz   bad CRC 912a9237  (should be 35486263)\n",
      " extracting: per_sample_FASTQ/81253/10249.C001.18SS.fastq.gz   bad CRC 19f3cded  (should be 35408365)\n",
      " extracting: per_sample_FASTQ/81253/10249.C035.13SD.fastq.gz   bad CRC 334adfec  (should be 60545004)\n",
      " extracting: per_sample_FASTQ/81253/10249.C011.19SD.fastq.gz   bad CRC 3575b629  (should be 96906793)\n",
      " extracting: per_sample_FASTQ/81253/10249.C049.09SD.fastq.gz   bad CRC b9443a5e  (should be 08256350)\n",
      " extracting: per_sample_FASTQ/81253/10249.C034.01SS.fastq.gz   bad CRC fcd17b53  (should be 41587027)\n",
      " extracting: per_sample_FASTQ/81253/10249.C031.01SS.fastq.gz   bad CRC 6255d2ae  (should be 49791662)\n",
      " extracting: per_sample_FASTQ/81253/10249.C036.01SS.fastq.gz   bad CRC e2428fb1  (should be 96012977)\n",
      " extracting: per_sample_FASTQ/81253/10249.M041.04SS.fastq.gz   bad CRC d9876ce5  (should be 49531109)\n",
      " extracting: per_sample_FASTQ/81253/10249.C034.07SS.fastq.gz   bad CRC 128902e4  (should be 10969060)\n",
      " extracting: per_sample_FASTQ/81253/10249.C023.01SS.fastq.gz   bad CRC 994b1625  (should be 71834917)\n",
      " extracting: per_sample_FASTQ/81253/10249.C009.07SS.fastq.gz   bad CRC 5fa0709d  (should be 04350109)\n",
      " extracting: per_sample_FASTQ/81253/10249.C007.23SS.fastq.gz   bad CRC bf17f18c  (should be 06017420)\n",
      " extracting: per_sample_FASTQ/81253/10249.C009.13SS.fastq.gz   bad CRC 7e538d08  (should be 19404808)\n",
      " extracting: per_sample_FASTQ/81253/10249.C016.22SD.fastq.gz   bad CRC e2d14920  (should be 05366560)\n",
      " extracting: per_sample_FASTQ/81253/10249.C002.01SS.fastq.gz   bad CRC 6820120e  (should be 46932238)\n",
      " extracting: per_sample_FASTQ/81253/10249.M005.01SS.fastq.gz   bad CRC e32f2f1d  (should be 11520285)\n",
      " extracting: per_sample_FASTQ/81253/10249.C020.04SS.fastq.gz   bad CRC 941eccdc  (should be 85046492)\n",
      " extracting: per_sample_FASTQ/81253/10249.C001.34SS.fastq.gz   bad CRC cdb0d6f7  (should be 50918647)\n",
      " extracting: per_sample_FASTQ/81253/10249.M030.01SS.fastq.gz   bad CRC c9bd9acb  (should be 84646347)\n",
      " extracting: per_sample_FASTQ/81253/10249.C045.01SS.fastq.gz   bad CRC c7d8a8be  (should be 52864958)\n",
      " extracting: per_sample_FASTQ/81253/10249.M037.01SS.fastq.gz   bad CRC 26f11185  (should be 53332869)\n",
      " extracting: per_sample_FASTQ/81253/10249.C025.14SS.fastq.gz   bad CRC 7e884173  (should be 22858867)\n",
      " extracting: per_sample_FASTQ/81253/10249.M017.01SS.fastq.gz   bad CRC 42bec520  (should be 19798560)\n",
      " extracting: per_sample_FASTQ/81253/10249.C021.01SS.fastq.gz   bad CRC 48e51010  (should be 22971408)\n",
      " extracting: per_sample_FASTQ/81253/10249.C052.02SS.fastq.gz   bad CRC cce57b96  (should be 37591446)\n",
      " extracting: per_sample_FASTQ/81253/10249.M045.01SS.fastq.gz   bad CRC ee476daf  (should be 97658543)\n",
      " extracting: per_sample_FASTQ/81253/10249.M041.01SS.fastq.gz   bad CRC 11ad9f1f  (should be 96591135)\n",
      " extracting: per_sample_FASTQ/81253/10249.C047.08SD.fastq.gz   bad CRC 0109cd46  (should be 17419590)\n",
      " extracting: per_sample_FASTQ/81253/10249.C056.02SS.fastq.gz   bad CRC 2cbf34c9  (should be 50728393)\n",
      " extracting: per_sample_FASTQ/81253/10249.M046.02SS.fastq.gz   bad CRC 8aef3574  (should be 30932596)\n",
      " extracting: per_sample_FASTQ/81253/10249.C005.01SS.fastq.gz   bad CRC 0daa4c01  (should be 29264385)\n",
      " extracting: per_sample_FASTQ/81253/10249.M010.02V.fastq.gz   bad CRC 79acd304  (should be 41369348)\n",
      " extracting: per_sample_FASTQ/81253/10249.M006.01R.fastq.gz   bad CRC d8e6232c  (should be 38960940)\n",
      " extracting: per_sample_FASTQ/81253/10249.M056.03R.fastq.gz   bad CRC a6f1500f  (should be 00832527)\n",
      " extracting: per_sample_FASTQ/81253/10249.M052.03V.fastq.gz   bad CRC 6d2f49fb  (should be 31815675)\n",
      " extracting: per_sample_FASTQ/81253/10249.M021.02V.fastq.gz   bad CRC 06ae0ba6  (should be 12069542)\n",
      " extracting: per_sample_FASTQ/81253/10249.M049.01V.fastq.gz   bad CRC 350aec70  (should be 89908336)\n",
      " extracting: per_sample_FASTQ/81253/10249.M005.03R.fastq.gz   bad CRC 1d569ee8  (should be 92216040)\n",
      " extracting: per_sample_FASTQ/81253/10249.M049.03R.fastq.gz   bad CRC 5ec21cac  (should be 89779628)\n",
      " extracting: per_sample_FASTQ/81253/10249.M025.01V.fastq.gz   bad CRC 79822f02  (should be 38574850)\n",
      " extracting: per_sample_FASTQ/81253/10249.M047.03V.fastq.gz   bad CRC 3f0015e1  (should be 56970209)\n",
      " extracting: per_sample_FASTQ/81253/10249.M026.01R.fastq.gz   bad CRC 470d5eac  (should be 92058540)\n",
      " extracting: per_sample_FASTQ/81253/10249.M036.01R.fastq.gz   bad CRC b010e7e2  (should be 53897954)\n",
      " extracting: per_sample_FASTQ/81253/10249.M053.03R.fastq.gz   bad CRC b9bf7015  (should be 16331029)\n",
      " extracting: per_sample_FASTQ/81253/10249.M010.02R.fastq.gz   bad CRC ff2f6f58  (should be 81298776)\n",
      " extracting: per_sample_FASTQ/81253/10249.M001.03R.fastq.gz   bad CRC 15859c19  (should be 61077785)\n",
      " extracting: per_sample_FASTQ/81253/10249.M021.03V.fastq.gz   bad CRC 5e2b2c4d  (should be 79887693)\n",
      " extracting: per_sample_FASTQ/81253/10249.M043.03R.fastq.gz   bad CRC 515cc2f1  (should be 65033713)\n",
      " extracting: per_sample_FASTQ/81253/10249.M044.03V.fastq.gz   bad CRC 27ac7c08  (should be 65615368)\n",
      " extracting: per_sample_FASTQ/81253/10249.M034.03V.fastq.gz   bad CRC 6ff40f29  (should be 78265641)\n",
      " extracting: per_sample_FASTQ/81253/10249.M053.02V.fastq.gz   bad CRC 4c6c16ce  (should be 82152142)\n",
      " extracting: per_sample_FASTQ/81253/10249.M050.01V.fastq.gz   bad CRC 88668210  (should be 88419344)\n",
      " extracting: per_sample_FASTQ/81253/10249.M019.02V.fastq.gz   bad CRC 329e2b45  (should be 49226565)\n",
      " extracting: per_sample_FASTQ/81253/10249.M035.02V.fastq.gz   bad CRC c84e0bf6  (should be 60558070)\n",
      " extracting: per_sample_FASTQ/81253/10249.M001.04V.fastq.gz   bad CRC b5485300  (should be 41415936)\n",
      " extracting: per_sample_FASTQ/81253/10249.M007.01R.fastq.gz   bad CRC f920e693  (should be 79682963)\n",
      " extracting: per_sample_FASTQ/81253/10249.M022.02R.fastq.gz   bad CRC 797a8783  (should be 38073219)\n",
      " extracting: per_sample_FASTQ/81253/10249.M017.01R.fastq.gz   bad CRC 49571e41  (should be 30446145)\n",
      " extracting: per_sample_FASTQ/81253/10249.M024.02R.fastq.gz   bad CRC a7bccd78  (should be 14168440)\n",
      " extracting: per_sample_FASTQ/81253/10249.M033.03R.fastq.gz   bad CRC 8ef45b2a  (should be 98378794)\n",
      " extracting: per_sample_FASTQ/81253/10249.M043.02V.fastq.gz   bad CRC 0fc2d4d5  (should be 64426709)\n",
      " extracting: per_sample_FASTQ/81253/10249.M041.02R.fastq.gz   bad CRC 38f536bc  (should be 55594428)\n",
      " extracting: per_sample_FASTQ/81253/10249.M052.01R.fastq.gz   bad CRC 01e2899a  (should be 31623578)\n",
      " extracting: per_sample_FASTQ/81253/10249.M007.02R.fastq.gz   bad CRC b25a39a6  (should be 92257446)\n",
      " extracting: per_sample_FASTQ/81253/10249.M007.03V.fastq.gz   bad CRC 4357a2c7  (should be 29816775)\n",
      " extracting: per_sample_FASTQ/81253/10249.M038.03R.fastq.gz   bad CRC 9521e675  (should be 02026869)\n",
      " extracting: per_sample_FASTQ/81253/10249.M020.02V.fastq.gz   bad CRC 67437b88  (should be 32475784)\n",
      " extracting: per_sample_FASTQ/81253/10249.M011.03V.fastq.gz   bad CRC 53cf1e48  (should be 06082632)\n",
      " extracting: per_sample_FASTQ/81253/10249.M033.01V.fastq.gz   bad CRC b895e9ea  (should be 96832490)\n",
      " extracting: per_sample_FASTQ/81253/10249.M022.01V.fastq.gz   bad CRC f9d0806b  (should be 91191147)\n",
      " extracting: per_sample_FASTQ/81253/10249.M049.02V.fastq.gz   bad CRC 65d32575  (should be 08336501)\n",
      " extracting: per_sample_FASTQ/81253/10249.M030.01V.fastq.gz   bad CRC c0677bd9  (should be 28007385)\n",
      " extracting: per_sample_FASTQ/81253/10249.M009.02V.fastq.gz   bad CRC 89f5f18c  (should be 14596748)\n",
      " extracting: per_sample_FASTQ/81253/10249.M026.02V.fastq.gz   bad CRC bf11a132  (should be 05603634)\n",
      " extracting: per_sample_FASTQ/81253/10249.M022.01R.fastq.gz   bad CRC c4de8926  (should be 02918438)\n",
      " extracting: per_sample_FASTQ/81253/10249.M032.01R.fastq.gz   bad CRC 0c9aced0  (should be 11472080)\n",
      " extracting: per_sample_FASTQ/81253/10249.M057.01V.fastq.gz   bad CRC 5954a401  (should be 98719233)\n",
      " extracting: per_sample_FASTQ/81253/10249.M030.02R.fastq.gz   bad CRC 970f7471  (should be 34372465)\n",
      " extracting: per_sample_FASTQ/81253/10249.M024.02V.fastq.gz   bad CRC 7eab47c8  (should be 25154248)\n",
      " extracting: per_sample_FASTQ/81253/10249.M024.03V.fastq.gz   bad CRC 2814b249  (should be 72445001)\n",
      " extracting: per_sample_FASTQ/81253/10249.M036.02R.fastq.gz   bad CRC 5e509196  (should be 82338454)\n",
      " extracting: per_sample_FASTQ/81253/10249.M014.02R.fastq.gz   bad CRC 1c5878fa  (should be 75560186)\n",
      " extracting: per_sample_FASTQ/81253/10249.M012.01V.fastq.gz   bad CRC 11851b72  (should be 93935986)\n",
      " extracting: per_sample_FASTQ/81253/10249.M045.02V.fastq.gz   bad CRC 4dab0b78  (should be 03055224)\n",
      " extracting: per_sample_FASTQ/81253/10249.M038.03V.fastq.gz   bad CRC 3e53378c  (should be 45641100)\n",
      " extracting: per_sample_FASTQ/81253/10249.M009.03V.fastq.gz   bad CRC 0718b4aa  (should be 19059626)\n",
      " extracting: per_sample_FASTQ/81253/10249.M033.01R.fastq.gz   bad CRC c426f210  (should be 90886672)\n",
      " extracting: per_sample_FASTQ/81253/10249.M009.03R.fastq.gz   bad CRC 3b48b140  (should be 94619712)\n",
      " extracting: per_sample_FASTQ/81253/10249.M056.03V.fastq.gz   bad CRC bd098acc  (should be 71519180)\n",
      " extracting: per_sample_FASTQ/81253/10249.M050.02R.fastq.gz   bad CRC b427c48a  (should be 22505098)\n",
      " extracting: per_sample_FASTQ/81253/10249.M052.01V.fastq.gz   bad CRC 7799b87b  (should be 06562939)\n",
      " extracting: per_sample_FASTQ/81253/10249.M004.02R.fastq.gz   bad CRC a7ddf295  (should be 16340629)\n",
      " extracting: per_sample_FASTQ/81253/10249.M047.03R.fastq.gz   bad CRC a4e4edc4  (should be 66466500)\n",
      " extracting: per_sample_FASTQ/81253/10249.M001.05R.fastq.gz   bad CRC 14ee1584  (should be 51147396)\n",
      " extracting: per_sample_FASTQ/81253/10249.M053.01V.fastq.gz   bad CRC 6f7e233a  (should be 70537530)\n",
      " extracting: per_sample_FASTQ/81253/10249.M030.03R.fastq.gz   bad CRC d319fb11  (should be 41695249)\n",
      " extracting: per_sample_FASTQ/81253/10249.M031.01V.fastq.gz   bad CRC 40cf3524  (should be 87321380)\n",
      " extracting: per_sample_FASTQ/81253/10249.M049.03V.fastq.gz   bad CRC b5b5be73  (should be 48586867)\n",
      " extracting: per_sample_FASTQ/81253/10249.M021.03R.fastq.gz   bad CRC 3fc4d86d  (should be 69865069)\n",
      " extracting: per_sample_FASTQ/81253/10249.M056.01R.fastq.gz   bad CRC 8aa24370  (should be 25889904)\n",
      " extracting: per_sample_FASTQ/81253/10249.M038.02V.fastq.gz   bad CRC 46ebd781  (should be 89861249)\n",
      " extracting: per_sample_FASTQ/81253/10249.M052.03R.fastq.gz   bad CRC 844b6010  (should be 19532304)\n",
      " extracting: per_sample_FASTQ/81253/10249.M034.02R.fastq.gz   bad CRC c489213e  (should be 97321278)\n",
      " extracting: per_sample_FASTQ/81253/10249.M041.01V.fastq.gz   bad CRC a8031f2f  (should be 18776879)\n",
      " extracting: per_sample_FASTQ/81253/10249.M007.02V.fastq.gz   bad CRC 92047933  (should be 49766707)\n",
      " extracting: per_sample_FASTQ/81253/10249.M029.01V.fastq.gz   bad CRC fac7ffb2  (should be 07411122)\n",
      " extracting: per_sample_FASTQ/81253/10249.M023.01V.fastq.gz   bad CRC 1012966a  (should be 69653610)\n",
      " extracting: per_sample_FASTQ/81253/10249.M046.01R.fastq.gz   bad CRC a7e49e58  (should be 16777816)\n",
      " extracting: per_sample_FASTQ/81253/10249.M008.01V.fastq.gz   bad CRC a902d958  (should be 35536216)\n",
      " extracting: per_sample_FASTQ/81253/10249.M026.01V.fastq.gz   bad CRC de3f1e73  (should be 28678515)\n",
      " extracting: per_sample_FASTQ/81253/10249.M014.03R.fastq.gz   bad CRC c78b5892  (should be 47798162)\n",
      " extracting: per_sample_FASTQ/81253/10249.M057.02R.fastq.gz   bad CRC 482bc083  (should be 10826883)\n",
      " extracting: per_sample_FASTQ/81253/10249.M017.01V.fastq.gz   bad CRC b39e0180  (should be 13476736)\n",
      " extracting: per_sample_FASTQ/81253/10249.M033.03V.fastq.gz   bad CRC d29238d2  (should be 32798162)\n",
      " extracting: per_sample_FASTQ/81253/10249.M044.01R.fastq.gz   bad CRC 12864de9  (should be 10791657)\n",
      " extracting: per_sample_FASTQ/81253/10249.M037.02V.fastq.gz   bad CRC 41d51f02  (should be 04486146)\n",
      " extracting: per_sample_FASTQ/81253/10249.M001.04R.fastq.gz   bad CRC 76170e89  (should be 81222537)\n",
      " extracting: per_sample_FASTQ/81253/10249.M031.02V.fastq.gz   bad CRC bb449cfc  (should be 41836028)\n",
      " extracting: per_sample_FASTQ/81253/10249.M012.03V.fastq.gz   bad CRC 3c8bb4fc  (should be 15788796)\n",
      " extracting: per_sample_FASTQ/81253/10249.M011.02V.fastq.gz   bad CRC b1587a81  (should be 75365761)\n",
      " extracting: per_sample_FASTQ/81253/10249.M046.01V.fastq.gz   bad CRC 51dd9595  (should be 73476245)\n",
      " extracting: per_sample_FASTQ/81253/10249.M008.01R.fastq.gz   bad CRC 828d9544  (should be 90316868)\n",
      " extracting: per_sample_FASTQ/81253/10249.M009.01R.fastq.gz   bad CRC a019eb7d  (should be 86053245)\n",
      " extracting: per_sample_FASTQ/81253/10249.M016.02R.fastq.gz   bad CRC bc25f4af  (should be 56604079)\n",
      " extracting: per_sample_FASTQ/81253/10249.M010.03V.fastq.gz   bad CRC c63e7be9  (should be 25983721)\n"
     ]
    },
    {
     "name": "stdout",
     "output_type": "stream",
     "text": [
      " extracting: per_sample_FASTQ/81253/10249.M017.02R.fastq.gz   bad CRC 7229cfe3  (should be 15342819)\n",
      " extracting: per_sample_FASTQ/81253/10249.M046.02V.fastq.gz   bad CRC dcc78032  (should be 04062002)\n",
      " extracting: per_sample_FASTQ/81253/10249.M034.01R.fastq.gz   bad CRC 0c70c9d9  (should be 08718297)\n",
      " extracting: per_sample_FASTQ/81253/10249.M018.03V.fastq.gz   bad CRC e06f4a1c  (should be 65389852)\n",
      " extracting: per_sample_FASTQ/81253/10249.M027.01R.fastq.gz   bad CRC 8c0b551c  (should be 49552924)\n",
      " extracting: per_sample_FASTQ/81253/10249.M027.03V.fastq.gz   bad CRC 99e5a6ec  (should be 81964524)\n",
      " extracting: per_sample_FASTQ/81253/10249.M037.03R.fastq.gz   bad CRC dec271bb  (should be 37285051)\n",
      " extracting: per_sample_FASTQ/81253/10249.M007.03R.fastq.gz   bad CRC ece8edba  (should be 74688186)\n",
      " extracting: per_sample_FASTQ/81253/10249.M027.03R.fastq.gz   bad CRC 375a07fc  (should be 28647164)\n",
      " extracting: per_sample_FASTQ/81253/10249.M046.03V.fastq.gz   bad CRC 90ca2ccb  (should be 29168843)\n",
      " extracting: per_sample_FASTQ/81253/10249.M010.01R.fastq.gz   bad CRC 62769629  (should be 51938857)\n",
      " extracting: per_sample_FASTQ/81253/10249.M014.02V.fastq.gz   bad CRC 3022289f  (should be 07544991)\n",
      " extracting: per_sample_FASTQ/81253/10249.M043.02R.fastq.gz   bad CRC edfbe23d  (should be 92707645)\n",
      " extracting: per_sample_FASTQ/81253/10249.M004.03V.fastq.gz   bad CRC 44c886c8  (should be 53992392)\n",
      " extracting: per_sample_FASTQ/81253/10249.M002.02R.fastq.gz   bad CRC 71bbfa08  (should be 08144648)\n",
      " extracting: per_sample_FASTQ/81253/10249.M004.01R.fastq.gz   bad CRC 53d1f33a  (should be 06268218)\n",
      " extracting: per_sample_FASTQ/81253/10249.M019.02R.fastq.gz   bad CRC 711c57a5  (should be 97682853)\n",
      " extracting: per_sample_FASTQ/81253/10249.M038.02R.fastq.gz   bad CRC cfcb84ec  (should be 86221548)\n",
      " extracting: per_sample_FASTQ/81253/10249.M044.02R.fastq.gz   bad CRC 39dfdcfa  (should be 70972410)\n",
      " extracting: per_sample_FASTQ/81253/10249.M008.02R.fastq.gz   bad CRC 7c2cc520  (should be 83308832)\n",
      " extracting: per_sample_FASTQ/81253/10249.M020.01V.fastq.gz   bad CRC c658dd17  (should be 27712535)\n",
      " extracting: per_sample_FASTQ/81253/10249.M051.02R.fastq.gz   bad CRC bf21697e  (should be 06637950)\n",
      " extracting: per_sample_FASTQ/81253/10249.M016.03R.fastq.gz   bad CRC ebd2957d  (should be 56446589)\n",
      " extracting: per_sample_FASTQ/81253/10249.M005.01V.fastq.gz   bad CRC 3cff27d1  (should be 23354833)\n",
      " extracting: per_sample_FASTQ/81253/10249.M041.02V.fastq.gz   bad CRC 1115b840  (should be 86636096)\n",
      " extracting: per_sample_FASTQ/81253/10249.M030.02V.fastq.gz   bad CRC e656720f  (should be 64424975)\n",
      " extracting: per_sample_FASTQ/81253/10249.M055.02R.fastq.gz   bad CRC 8d9bd123  (should be 75799075)\n",
      " extracting: per_sample_FASTQ/81253/10249.M019.01R.fastq.gz   bad CRC ce3db9af  (should be 60151727)\n",
      " extracting: per_sample_FASTQ/81253/10249.M018.02R.fastq.gz   bad CRC 8622e84e  (should be 50434638)\n",
      " extracting: per_sample_FASTQ/81253/10249.M053.03V.fastq.gz   bad CRC 8bff45b1  (should be 48762545)\n",
      " extracting: per_sample_FASTQ/81253/10249.M025.02V.fastq.gz   bad CRC a6b012c7  (should be 96556999)\n",
      " extracting: per_sample_FASTQ/81253/10249.M042.03R.fastq.gz   bad CRC 4560b5ea  (should be 63965930)\n",
      " extracting: per_sample_FASTQ/81253/10249.M038.01R.fastq.gz   bad CRC 9fee2503  (should be 83184387)\n",
      " extracting: per_sample_FASTQ/81253/10249.M047.02V.fastq.gz   bad CRC f588bd1a  (should be 19379226)\n",
      " extracting: per_sample_FASTQ/81253/10249.M036.03R.fastq.gz   bad CRC 89b9a646  (should be 10645318)\n",
      " extracting: per_sample_FASTQ/81253/10249.M005.02R.fastq.gz   bad CRC c6a8a863  (should be 32941923)\n",
      " extracting: per_sample_FASTQ/81253/10249.M014.01R.fastq.gz   bad CRC 2c3922e0  (should be 41941984)\n",
      " extracting: per_sample_FASTQ/81253/10249.M037.03V.fastq.gz   bad CRC 1c4ae704  (should be 74670852)\n",
      " extracting: per_sample_FASTQ/81253/10249.M039.01V.fastq.gz   bad CRC 5156408e  (should be 64607118)\n",
      " extracting: per_sample_FASTQ/81253/10249.M012.02V.fastq.gz   bad CRC 0eeea6fa  (should be 50521338)\n",
      " extracting: per_sample_FASTQ/81253/10249.M029.02R.fastq.gz   bad CRC fd40e480  (should be 48888448)\n",
      " extracting: per_sample_FASTQ/81253/10249.M016.02V.fastq.gz   bad CRC 62303f51  (should be 47329105)\n",
      " extracting: per_sample_FASTQ/81253/10249.M005.02V.fastq.gz   bad CRC a0d8a52b  (should be 98552619)\n",
      " extracting: per_sample_FASTQ/81253/10249.M027.01V.fastq.gz   bad CRC 08253c37  (should be 36657975)\n",
      " extracting: per_sample_FASTQ/81253/10249.M022.02V.fastq.gz   bad CRC 2303d3d3  (should be 87453395)\n",
      " extracting: per_sample_FASTQ/81253/10249.M043.03V.fastq.gz   bad CRC e8668e18  (should be 99035160)\n",
      " extracting: per_sample_FASTQ/81253/10249.M034.03R.fastq.gz   bad CRC f4b5d4f7  (should be 05557239)\n",
      " extracting: per_sample_FASTQ/81253/10249.M056.01V.fastq.gz   bad CRC aa66b86c  (should be 58858604)\n",
      " extracting: per_sample_FASTQ/81253/10249.M043.01V.fastq.gz   bad CRC 6deaf297  (should be 44114071)\n",
      " extracting: per_sample_FASTQ/81253/10249.M038.01V.fastq.gz   bad CRC 234c5ff9  (should be 92207865)\n",
      " extracting: per_sample_FASTQ/81253/10249.M029.01R.fastq.gz   bad CRC 86742a36  (should be 55759926)\n",
      " extracting: per_sample_FASTQ/81253/10249.M047.01V.fastq.gz   bad CRC c7df9a67  (should be 53320039)\n",
      " extracting: per_sample_FASTQ/81253/10249.M009.02R.fastq.gz   bad CRC fd22f4d4  (should be 46926548)\n",
      " extracting: per_sample_FASTQ/81253/10249.M034.01V.fastq.gz   bad CRC 124006b9  (should be 06185913)\n",
      " extracting: per_sample_FASTQ/81253/10249.M030.03V.fastq.gz   bad CRC 74169a39  (should be 47638329)\n",
      " extracting: per_sample_FASTQ/81253/10249.M016.01V.fastq.gz   bad CRC 8de85023  (should be 80812323)\n",
      " extracting: per_sample_FASTQ/81253/10249.M010.01V.fastq.gz   bad CRC 47c6a7e2  (should be 04201442)\n",
      " extracting: per_sample_FASTQ/81253/10249.M025.03V.fastq.gz   bad CRC ee7d79e4  (should be 01200612)\n",
      " extracting: per_sample_FASTQ/81253/10249.M037.02R.fastq.gz   bad CRC bef9b6f0  (should be 04036336)\n",
      " extracting: per_sample_FASTQ/81253/10249.M029.02V.fastq.gz   bad CRC e81e590a  (should be 94302986)\n",
      " extracting: per_sample_FASTQ/81253/10249.M018.01V.fastq.gz   bad CRC 0c480033  (should be 06045235)\n",
      " extracting: per_sample_FASTQ/81253/10249.M035.03R.fastq.gz   bad CRC 7c938afe  (should be 90044158)\n",
      " extracting: per_sample_FASTQ/81253/10249.M034.02V.fastq.gz   bad CRC 5d5d0626  (should be 66377510)\n",
      " extracting: per_sample_FASTQ/81253/10249.M020.01R.fastq.gz   bad CRC bd47232c  (should be 75555884)\n",
      " extracting: per_sample_FASTQ/81253/10249.M026.02R.fastq.gz   bad CRC 8f13308e  (should be 00399502)\n",
      " extracting: per_sample_FASTQ/81253/10249.M047.01R.fastq.gz   bad CRC 9d51c008  (should be 39380488)\n",
      " extracting: per_sample_FASTQ/81253/10249.M023.01R.fastq.gz   bad CRC 7b0b6cea  (should be 64346346)\n",
      " extracting: per_sample_FASTQ/81253/10249.M032.01V.fastq.gz   bad CRC b84c9446  (should be 92026438)\n",
      " extracting: per_sample_FASTQ/81253/10249.M044.03R.fastq.gz   bad CRC 59094fb4  (should be 93782452)\n",
      " extracting: per_sample_FASTQ/81253/10249.M008.03R.fastq.gz   bad CRC 03e6cf2c  (should be 65457964)\n",
      " extracting: per_sample_FASTQ/81253/10249.M055.02V.fastq.gz   bad CRC 631ab70c  (should be 62695180)\n",
      " extracting: per_sample_FASTQ/81253/10249.M009.01V.fastq.gz   bad CRC 98c89940  (should be 63283264)\n",
      " extracting: per_sample_FASTQ/81253/10249.M056.02V.fastq.gz   bad CRC 4707f7d3  (should be 91704531)\n",
      " extracting: per_sample_FASTQ/81253/10249.M004.03R.fastq.gz   bad CRC fb3f61aa  (should be 15234986)\n",
      " extracting: per_sample_FASTQ/81253/10249.M006.01V.fastq.gz   bad CRC 7551bf7c  (should be 68291708)\n",
      " extracting: per_sample_FASTQ/81253/10249.M049.02R.fastq.gz   bad CRC a31cce22  (should be 36573986)\n",
      " extracting: per_sample_FASTQ/81253/10249.M002.02V.fastq.gz   bad CRC 302abb80  (should be 08106880)\n",
      " extracting: per_sample_FASTQ/81253/10249.M018.02V.fastq.gz   bad CRC 026f2667  (should be 40838759)\n",
      " extracting: per_sample_FASTQ/81253/10249.M011.01R.fastq.gz   bad CRC 5153a253  (should be 64435539)\n",
      " extracting: per_sample_FASTQ/81253/10249.M052.02R.fastq.gz   bad CRC 12b74feb  (should be 14003435)\n",
      " extracting: per_sample_FASTQ/81253/10249.M044.02V.fastq.gz   bad CRC c09c3763  (should be 31463267)\n",
      " extracting: per_sample_FASTQ/81253/10249.M037.01R.fastq.gz   bad CRC df0dd619  (should be 42225945)\n"
     ]
    },
    {
     "name": "stdout",
     "output_type": "stream",
     "text": [
      " extracting: per_sample_FASTQ/81253/10249.M036.03V.fastq.gz   bad CRC b095978f  (should be 62593679)\n",
      " extracting: per_sample_FASTQ/81253/10249.M033.02R.fastq.gz   bad CRC f6e39d39  (should be 42112057)\n",
      " extracting: per_sample_FASTQ/81253/10249.M051.01R.fastq.gz   bad CRC 2eb2e715  (should be 83476501)\n",
      " extracting: per_sample_FASTQ/81253/10249.M018.01R.fastq.gz   bad CRC 1bb9352e  (should be 65122606)\n",
      " extracting: per_sample_FASTQ/81253/10249.M025.02R.fastq.gz   bad CRC bbfa9af6  (should be 53763062)\n",
      " extracting: per_sample_FASTQ/81253/10249.M019.01V.fastq.gz   bad CRC 8c031782  (should be 49012866)\n",
      " extracting: per_sample_FASTQ/81253/10249.M015.01R.fastq.gz   bad CRC be59db03  (should be 93559811)\n",
      " extracting: per_sample_FASTQ/81253/10249.M043.01R.fastq.gz   bad CRC 0986a258  (should be 59818328)\n",
      " extracting: per_sample_FASTQ/81253/10249.M050.01R.fastq.gz   bad CRC 7817e683  (should be 14832259)\n",
      " extracting: per_sample_FASTQ/81253/10249.M042.01V.fastq.gz   bad CRC 6d869133  (should be 37535539)\n",
      " extracting: per_sample_FASTQ/81253/10249.M020.03V.fastq.gz   bad CRC 5e5d1198  (should be 83157656)\n",
      " extracting: per_sample_FASTQ/81253/10249.M031.01R.fastq.gz   bad CRC b11341d4  (should be 70829268)\n",
      " extracting: per_sample_FASTQ/81253/10249.M055.01V.fastq.gz   bad CRC 6a21caa9  (should be 80599465)\n",
      " extracting: per_sample_FASTQ/81253/10249.M052.02V.fastq.gz   bad CRC 8d5ce3fd  (should be 71675133)\n",
      " extracting: per_sample_FASTQ/81253/10249.M017.03V.fastq.gz   bad CRC 36806fd5  (should be 14386901)\n",
      " extracting: per_sample_FASTQ/81253/10249.M031.03V.fastq.gz   bad CRC a15220e0  (should be 06514144)\n",
      " extracting: per_sample_FASTQ/81253/10249.M051.02V.fastq.gz   bad CRC 26798f8d  (should be 45500813)\n",
      " extracting: per_sample_FASTQ/81253/10249.M007.01V.fastq.gz   bad CRC 5346eeb9  (should be 97157561)\n",
      " extracting: per_sample_FASTQ/81253/10249.M036.01V.fastq.gz   bad CRC 575677b9  (should be 65284537)\n",
      " extracting: per_sample_FASTQ/81253/10249.M011.03R.fastq.gz   bad CRC 57cc3d1c  (should be 73002780)\n",
      " extracting: per_sample_FASTQ/81253/10249.M053.02R.fastq.gz   bad CRC 78bcab19  (should be 25630489)\n",
      " extracting: per_sample_FASTQ/81253/10249.M021.01R.fastq.gz   bad CRC a9a31d44  (should be 46039364)\n",
      " extracting: per_sample_FASTQ/81253/10249.M053.01R.fastq.gz   bad CRC f182c9d0  (should be 51880400)\n",
      " extracting: per_sample_FASTQ/81253/10249.M018.03R.fastq.gz   bad CRC 039be28d  (should be 60547725)\n",
      " extracting: per_sample_FASTQ/81253/10249.M030.01R.fastq.gz   bad CRC 854c7119  (should be 36379417)\n",
      " extracting: per_sample_FASTQ/81253/10249.M050.02V.fastq.gz   bad CRC 32159d66  (should be 40277350)\n",
      " extracting: per_sample_FASTQ/81253/10249.M012.02R.fastq.gz   bad CRC 12000b31  (should be 01992753)\n",
      " extracting: per_sample_FASTQ/81253/10249.M031.02R.fastq.gz   bad CRC 516c663d  (should be 66058557)\n",
      " extracting: per_sample_FASTQ/81253/10249.M042.01R.fastq.gz   bad CRC e943697d  (should be 13509245)\n",
      " extracting: per_sample_FASTQ/81253/10249.M011.02R.fastq.gz   bad CRC 780201cb  (should be 13397451)\n",
      " extracting: per_sample_FASTQ/81253/10249.M035.01R.fastq.gz   bad CRC 03b56107  (should be 62218503)\n",
      " extracting: per_sample_FASTQ/81253/10249.M001.03V.fastq.gz   bad CRC d0e42c0e  (should be 04614414)\n",
      " extracting: per_sample_FASTQ/81253/10249.M016.03V.fastq.gz   bad CRC d1e10766  (should be 21185638)\n",
      " extracting: per_sample_FASTQ/81253/10249.M041.03R.fastq.gz   bad CRC ea6ca8ed  (should be 32989677)\n",
      " extracting: per_sample_FASTQ/81253/10249.M037.01V.fastq.gz   bad CRC 759b5bd9  (should be 73115865)\n",
      " extracting: per_sample_FASTQ/81253/10249.M021.01V.fastq.gz   bad CRC e0351391  (should be 61574801)\n",
      " extracting: per_sample_FASTQ/81253/10249.M032.02R.fastq.gz   bad CRC db183f2b  (should be 75799339)\n",
      " extracting: per_sample_FASTQ/81253/10249.M014.01V.fastq.gz   bad CRC 587c0d84  (should be 84524932)\n",
      " extracting: per_sample_FASTQ/81253/10249.M002.03R.fastq.gz   bad CRC 68033c3f  (should be 45042495)\n",
      " extracting: per_sample_FASTQ/81253/10249.M024.01R.fastq.gz   bad CRC a06b414b  (should be 91383627)\n",
      " extracting: per_sample_FASTQ/81253/10249.M039.01R.fastq.gz   bad CRC e77e82ad  (should be 83827885)\n",
      " extracting: per_sample_FASTQ/81253/10249.M033.02V.fastq.gz   bad CRC 33e51d4b  (should be 70653259)\n",
      " extracting: per_sample_FASTQ/81253/10249.M035.01V.fastq.gz   bad CRC 77d3311d  (should be 10329373)\n",
      " extracting: per_sample_FASTQ/81253/10249.M042.03V.fastq.gz   bad CRC cbd58eb9  (should be 19770553)\n",
      " extracting: per_sample_FASTQ/81253/10249.M008.03V.fastq.gz   bad CRC ed46dc54  (should be 80844116)\n",
      " extracting: per_sample_FASTQ/81253/10249.M004.02V.fastq.gz   bad CRC 57bca1c1  (should be 71979969)\n",
      " extracting: per_sample_FASTQ/81253/10249.M025.01R.fastq.gz   bad CRC a9bda930  (should be 47779120)\n",
      " extracting: per_sample_FASTQ/81253/10249.M012.03R.fastq.gz   bad CRC f1688c56  (should be 50160726)\n",
      " extracting: per_sample_FASTQ/81253/10249.M057.02V.fastq.gz   bad CRC 117e474b  (should be 93488459)\n",
      " extracting: per_sample_FASTQ/81253/10249.M012.01R.fastq.gz   bad CRC 33300000  (should be 58783744)\n",
      " extracting: per_sample_FASTQ/81253/10249.M035.02R.fastq.gz   bad CRC 1a85129e  (should be 44928670)\n",
      " extracting: per_sample_FASTQ/81253/10249.M047.02R.fastq.gz   bad CRC df3ea847  (should be 45425479)\n",
      " extracting: per_sample_FASTQ/81253/10249.M017.02V.fastq.gz   bad CRC 1c7fa104  (should be 78126340)\n",
      " extracting: per_sample_FASTQ/81253/10249.M051.01V.fastq.gz   bad CRC 267791ea  (should be 45370346)\n",
      " extracting: per_sample_FASTQ/81253/10249.M045.01V.fastq.gz   bad CRC d4dda8b4  (should be 71296436)\n",
      " extracting: per_sample_FASTQ/81253/10249.M024.01V.fastq.gz   bad CRC e41dde17  (should be 27162647)\n",
      " extracting: per_sample_FASTQ/81253/10249.M025.03R.fastq.gz   bad CRC 1b2dc5f7  (should be 55984631)\n",
      " extracting: per_sample_FASTQ/81253/10249.M057.01R.fastq.gz   bad CRC c4da9d66  (should be 02661478)\n",
      " extracting: per_sample_FASTQ/81253/10249.M016.01R.fastq.gz   bad CRC 81ab1c03  (should be 75474691)\n",
      " extracting: per_sample_FASTQ/81253/10249.M015.01V.fastq.gz   bad CRC 81b86e92  (should be 76347794)\n",
      " extracting: per_sample_FASTQ/81253/10249.M023.02R.fastq.gz   bad CRC ff37cee0  (should be 81847520)\n",
      " extracting: per_sample_FASTQ/81253/10249.M055.01R.fastq.gz   bad CRC d78e8499  (should be 16441497)\n",
      " extracting: per_sample_FASTQ/81253/10249.M005.01R.fastq.gz   bad CRC 745625e0  (should be 51802848)\n",
      " extracting: per_sample_FASTQ/81253/10249.M017.03R.fastq.gz   bad CRC 64cd32c9  (should be 91169481)\n",
      " extracting: per_sample_FASTQ/81253/10249.M023.02V.fastq.gz   bad CRC edeb7820  (should be 91631904)\n",
      " extracting: per_sample_FASTQ/81253/10249.M056.02R.fastq.gz   bad CRC a9ab1398  (should be 46561176)\n",
      " extracting: per_sample_FASTQ/81253/10249.M049.01R.fastq.gz   bad CRC b374fc3e  (should be 10788414)\n",
      " extracting: per_sample_FASTQ/81253/10249.M042.02V.fastq.gz   bad CRC 1c16c347  (should be 71253831)\n",
      " extracting: per_sample_FASTQ/81253/10249.M011.01V.fastq.gz   bad CRC c8641369  (should be 62001769)\n",
      " extracting: per_sample_FASTQ/81253/10249.M041.01R.fastq.gz   bad CRC c540f0f2  (should be 09367538)\n",
      " extracting: per_sample_FASTQ/81253/10249.M024.03R.fastq.gz   bad CRC cf473991  (should be 77551505)\n",
      " extracting: per_sample_FASTQ/81253/artifact_81253.html   bad CRC 8390899e  (should be 07287710)\n",
      " extracting: mapping_files/81253_mapping_file.txt  \n"
     ]
    }
   ],
   "source": [
    "!unzip $workdir/81253.zip"
   ]
  },
  {
   "cell_type": "code",
   "execution_count": 6,
   "metadata": {},
   "outputs": [],
   "source": [
    "!mv $workdir/mapping_files/81253_mapping_file.txt $workdir/metadata.tsv"
   ]
  },
  {
   "cell_type": "markdown",
   "metadata": {},
   "source": [
    "## Import DNA sequence data into QIIME 2 & create a visual summary"
   ]
  },
  {
   "cell_type": "markdown",
   "metadata": {},
   "source": [
    "### 1. Create the manifest file with the required column headers"
   ]
  },
  {
   "cell_type": "code",
   "execution_count": 7,
   "metadata": {},
   "outputs": [],
   "source": [
    "!echo \"sample-id\\tabsolute-filepath\" > manifest.tsv"
   ]
  },
  {
   "cell_type": "markdown",
   "metadata": {},
   "source": [
    "### 2. Use a loop function to insert the sample names into the sample-id column and add the full paths to the sequence files in the absolute-filepath column"
   ]
  },
  {
   "cell_type": "code",
   "execution_count": 8,
   "metadata": {},
   "outputs": [],
   "source": [
    "!for f in `ls per_sample_FASTQ/81253/*.gz`; \\\n",
    "do n=`basename $f`; echo \"12802.${n%.fastq.gz}\\t$PWD/$f\"; done >> manifest.tsv"
   ]
  },
  {
   "cell_type": "markdown",
   "metadata": {},
   "source": [
    "### 3. Use the manifest file to import the sequences into QIIME 2"
   ]
  },
  {
   "cell_type": "code",
   "execution_count": 9,
   "metadata": {},
   "outputs": [],
   "source": [
    "manifest_single_end = qiime2.Artifact.import_data('SampleData[SequencesWithQuality]',\n",
    "                                                  view_type='SingleEndFastqManifestPhred33V2',\n",
    "                                                  view=workdir+'manifest.tsv')"
   ]
  },
  {
   "cell_type": "markdown",
   "metadata": {},
   "source": [
    "### 4. Create a summary of the demultiplexed artifact"
   ]
  },
  {
   "cell_type": "code",
   "execution_count": 10,
   "metadata": {},
   "outputs": [],
   "source": [
    "demux_summary = demux.visualizers.summarize(manifest_single_end)"
   ]
  },
  {
   "cell_type": "markdown",
   "metadata": {},
   "source": [
    "### 5. Visualize feature table"
   ]
  },
  {
   "cell_type": "code",
   "execution_count": 11,
   "metadata": {},
   "outputs": [
    {
     "data": {
      "text/html": [
       "<div><img onload=\"(function(div, url){\n",
       "if (typeof require !== 'undefined') {\n",
       "    var baseURL = require.toUrl('').split('/').slice(0, -2).join('/');\n",
       "} else {\n",
       "    var baseURL = JSON.parse(\n",
       "        document.getElementById('jupyter-config-data').innerHTML\n",
       "    ).baseUrl.slice(0, -1);\n",
       "}\n",
       "url = baseURL + url;\n",
       "fetch(url).then(function(res) {\n",
       "    if (res.status === 404) {\n",
       "        div.innerHTML = 'Install QIIME 2 Jupyter extension with:<br />' +\n",
       "                        '<code>jupyter serverextension enable --py qiime2' +\n",
       "                        ' --sys-prefix</code><br />then restart your server.' +\n",
       "                        '<br /><br />(Interactive output not available on ' +\n",
       "                        'static notebook viewer services like nbviewer.)';\n",
       "    } else if (res.status === 409) {\n",
       "        div.innerHTML = 'Visualization no longer in scope. Re-run this cell' +\n",
       "                        ' to see the visualization.';\n",
       "    } else if (res.ok) {\n",
       "        url = res.url;\n",
       "        div.innerHTML = '<iframe src=\\'' + url + '\\' style=\\'' +\n",
       "                        'width: 100%; height: 700px; border: 0;\\'>' +\n",
       "                        '</iframe><hr />Open in a: <a href=\\'' + url + '\\'' +\n",
       "                        ' target=\\'_blank\\'>new window</a>'\n",
       "    } else {\n",
       "        div.innerHTML = 'Something has gone wrong. Check notebook server for' +\n",
       "                        ' errors.';\n",
       "    }\n",
       "});\n",
       "})(this.parentElement, '/qiime2/redirect?location=/tmp/qiime2-archive-rqqq1tyj')\" src=\"data:image/gif;base64,R0lGODlhAQABAIAAAP///wAAACH5BAEAAAAALAAAAAABAAEAAAICRAEAOw==\" /></div>"
      ],
      "text/plain": [
       "<visualization: Visualization uuid: 3b338066-30c5-41db-b670-83d876c76d82>"
      ]
     },
     "execution_count": 11,
     "metadata": {},
     "output_type": "execute_result"
    }
   ],
   "source": [
    "demux_summary.visualization"
   ]
  },
  {
   "cell_type": "markdown",
   "metadata": {},
   "source": [
    "## Import metadata as an object"
   ]
  },
  {
   "cell_type": "code",
   "execution_count": 12,
   "metadata": {},
   "outputs": [],
   "source": [
    "metadata_ecam = qiime2.Metadata.load(workdir+'/metadata.tsv')"
   ]
  },
  {
   "cell_type": "markdown",
   "metadata": {},
   "source": [
    "## Sequence quality control and feature table construction"
   ]
  },
  {
   "cell_type": "markdown",
   "metadata": {},
   "source": [
    "### 1. Apply intial quality filtering "
   ]
  },
  {
   "cell_type": "code",
   "execution_count": 13,
   "metadata": {
    "scrolled": true
   },
   "outputs": [
    {
     "name": "stderr",
     "output_type": "stream",
     "text": [
      "/home/drz/Conda/envs/qiime2-2019.10/lib/python3.6/site-packages/q2_quality_filter/_filter.py:88: YAMLLoadWarning: calling yaml.load() without Loader=... is deprecated, as the default Loader is unsafe. Please read https://msg.pyyaml.org/load for full details.\n",
      "  phred_offset = yaml.load(metadata_view)['phred-offset']\n"
     ]
    }
   ],
   "source": [
    "demux_q_score = quality_filter.methods.q_score(manifest_single_end)"
   ]
  },
  {
   "cell_type": "markdown",
   "metadata": {},
   "source": [
    "### 2. Apply Deblur workflow"
   ]
  },
  {
   "cell_type": "code",
   "execution_count": 14,
   "metadata": {},
   "outputs": [],
   "source": [
    "# this step is time-consuming\n",
    "deblur_sequences = deblur.methods.denoise_16S(manifest_single_end,\n",
    "                                              trim_length=150,\n",
    "                                              sample_stats=True,\n",
    "                                              jobs_to_start=1)"
   ]
  },
  {
   "cell_type": "markdown",
   "metadata": {},
   "source": [
    "### 3. Create a visualization summary of deblur statistics"
   ]
  },
  {
   "cell_type": "code",
   "execution_count": 15,
   "metadata": {},
   "outputs": [
    {
     "data": {
      "text/html": [
       "<div><img onload=\"(function(div, url){\n",
       "if (typeof require !== 'undefined') {\n",
       "    var baseURL = require.toUrl('').split('/').slice(0, -2).join('/');\n",
       "} else {\n",
       "    var baseURL = JSON.parse(\n",
       "        document.getElementById('jupyter-config-data').innerHTML\n",
       "    ).baseUrl.slice(0, -1);\n",
       "}\n",
       "url = baseURL + url;\n",
       "fetch(url).then(function(res) {\n",
       "    if (res.status === 404) {\n",
       "        div.innerHTML = 'Install QIIME 2 Jupyter extension with:<br />' +\n",
       "                        '<code>jupyter serverextension enable --py qiime2' +\n",
       "                        ' --sys-prefix</code><br />then restart your server.' +\n",
       "                        '<br /><br />(Interactive output not available on ' +\n",
       "                        'static notebook viewer services like nbviewer.)';\n",
       "    } else if (res.status === 409) {\n",
       "        div.innerHTML = 'Visualization no longer in scope. Re-run this cell' +\n",
       "                        ' to see the visualization.';\n",
       "    } else if (res.ok) {\n",
       "        url = res.url;\n",
       "        div.innerHTML = '<iframe src=\\'' + url + '\\' style=\\'' +\n",
       "                        'width: 100%; height: 700px; border: 0;\\'>' +\n",
       "                        '</iframe><hr />Open in a: <a href=\\'' + url + '\\'' +\n",
       "                        ' target=\\'_blank\\'>new window</a>'\n",
       "    } else {\n",
       "        div.innerHTML = 'Something has gone wrong. Check notebook server for' +\n",
       "                        ' errors.';\n",
       "    }\n",
       "});\n",
       "})(this.parentElement, '/qiime2/redirect?location=/tmp/qiime2-archive-bh_x8zog')\" src=\"data:image/gif;base64,R0lGODlhAQABAIAAAP///wAAACH5BAEAAAAALAAAAAABAAEAAAICRAEAOw==\" /></div>"
      ],
      "text/plain": [
       "<visualization: Visualization uuid: 81deb071-6cda-4127-9886-70e0c6223098>"
      ]
     },
     "execution_count": 15,
     "metadata": {},
     "output_type": "execute_result"
    }
   ],
   "source": [
    "deblur_viz = deblur.visualizers.visualize_stats(deblur_sequences.stats)\n",
    "deblur_viz.visualization"
   ]
  },
  {
   "cell_type": "markdown",
   "metadata": {},
   "source": [
    "### 4. Visualize representative sequences"
   ]
  },
  {
   "cell_type": "code",
   "execution_count": 16,
   "metadata": {},
   "outputs": [
    {
     "data": {
      "text/html": [
       "<div><img onload=\"(function(div, url){\n",
       "if (typeof require !== 'undefined') {\n",
       "    var baseURL = require.toUrl('').split('/').slice(0, -2).join('/');\n",
       "} else {\n",
       "    var baseURL = JSON.parse(\n",
       "        document.getElementById('jupyter-config-data').innerHTML\n",
       "    ).baseUrl.slice(0, -1);\n",
       "}\n",
       "url = baseURL + url;\n",
       "fetch(url).then(function(res) {\n",
       "    if (res.status === 404) {\n",
       "        div.innerHTML = 'Install QIIME 2 Jupyter extension with:<br />' +\n",
       "                        '<code>jupyter serverextension enable --py qiime2' +\n",
       "                        ' --sys-prefix</code><br />then restart your server.' +\n",
       "                        '<br /><br />(Interactive output not available on ' +\n",
       "                        'static notebook viewer services like nbviewer.)';\n",
       "    } else if (res.status === 409) {\n",
       "        div.innerHTML = 'Visualization no longer in scope. Re-run this cell' +\n",
       "                        ' to see the visualization.';\n",
       "    } else if (res.ok) {\n",
       "        url = res.url;\n",
       "        div.innerHTML = '<iframe src=\\'' + url + '\\' style=\\'' +\n",
       "                        'width: 100%; height: 700px; border: 0;\\'>' +\n",
       "                        '</iframe><hr />Open in a: <a href=\\'' + url + '\\'' +\n",
       "                        ' target=\\'_blank\\'>new window</a>'\n",
       "    } else {\n",
       "        div.innerHTML = 'Something has gone wrong. Check notebook server for' +\n",
       "                        ' errors.';\n",
       "    }\n",
       "});\n",
       "})(this.parentElement, '/qiime2/redirect?location=/tmp/qiime2-archive-a9boa4ha')\" src=\"data:image/gif;base64,R0lGODlhAQABAIAAAP///wAAACH5BAEAAAAALAAAAAABAAEAAAICRAEAOw==\" /></div>"
      ],
      "text/plain": [
       "<visualization: Visualization uuid: e78747b2-b086-4837-8e5e-76ea37d19ca1>"
      ]
     },
     "execution_count": 16,
     "metadata": {},
     "output_type": "execute_result"
    }
   ],
   "source": [
    "deblur_seq_viz = feature_table.visualizers.tabulate_seqs(deblur_sequences.representative_sequences)\n",
    "deblur_seq_viz.visualization"
   ]
  },
  {
   "cell_type": "markdown",
   "metadata": {},
   "source": [
    "### 5. Visualize feature table"
   ]
  },
  {
   "cell_type": "code",
   "execution_count": 17,
   "metadata": {},
   "outputs": [
    {
     "name": "stderr",
     "output_type": "stream",
     "text": [
      "/home/drz/Conda/envs/qiime2-2019.10/lib/python3.6/site-packages/q2_feature_table/_summarize/_visualizer.py:122: FutureWarning: The signature of `Series.to_csv` was aligned to that of `DataFrame.to_csv`, and argument 'header' will change its default value from False to True: please pass an explicit value to suppress this warning.\n",
      "  os.path.join(output_dir, 'sample-frequency-detail.csv'))\n",
      "/home/drz/Conda/envs/qiime2-2019.10/lib/python3.6/site-packages/q2_feature_table/_summarize/_visualizer.py:124: FutureWarning: The signature of `Series.to_csv` was aligned to that of `DataFrame.to_csv`, and argument 'header' will change its default value from False to True: please pass an explicit value to suppress this warning.\n",
      "  os.path.join(output_dir, 'feature-frequency-detail.csv'))\n"
     ]
    },
    {
     "data": {
      "text/html": [
       "<div><img onload=\"(function(div, url){\n",
       "if (typeof require !== 'undefined') {\n",
       "    var baseURL = require.toUrl('').split('/').slice(0, -2).join('/');\n",
       "} else {\n",
       "    var baseURL = JSON.parse(\n",
       "        document.getElementById('jupyter-config-data').innerHTML\n",
       "    ).baseUrl.slice(0, -1);\n",
       "}\n",
       "url = baseURL + url;\n",
       "fetch(url).then(function(res) {\n",
       "    if (res.status === 404) {\n",
       "        div.innerHTML = 'Install QIIME 2 Jupyter extension with:<br />' +\n",
       "                        '<code>jupyter serverextension enable --py qiime2' +\n",
       "                        ' --sys-prefix</code><br />then restart your server.' +\n",
       "                        '<br /><br />(Interactive output not available on ' +\n",
       "                        'static notebook viewer services like nbviewer.)';\n",
       "    } else if (res.status === 409) {\n",
       "        div.innerHTML = 'Visualization no longer in scope. Re-run this cell' +\n",
       "                        ' to see the visualization.';\n",
       "    } else if (res.ok) {\n",
       "        url = res.url;\n",
       "        div.innerHTML = '<iframe src=\\'' + url + '\\' style=\\'' +\n",
       "                        'width: 100%; height: 700px; border: 0;\\'>' +\n",
       "                        '</iframe><hr />Open in a: <a href=\\'' + url + '\\'' +\n",
       "                        ' target=\\'_blank\\'>new window</a>'\n",
       "    } else {\n",
       "        div.innerHTML = 'Something has gone wrong. Check notebook server for' +\n",
       "                        ' errors.';\n",
       "    }\n",
       "});\n",
       "})(this.parentElement, '/qiime2/redirect?location=/tmp/qiime2-archive-snt071jv')\" src=\"data:image/gif;base64,R0lGODlhAQABAIAAAP///wAAACH5BAEAAAAALAAAAAABAAEAAAICRAEAOw==\" /></div>"
      ],
      "text/plain": [
       "<visualization: Visualization uuid: e644993d-6d22-4418-abec-b3a1e7de976e>"
      ]
     },
     "execution_count": 17,
     "metadata": {},
     "output_type": "execute_result"
    }
   ],
   "source": [
    "feature_table_viz = feature_table.visualizers.summarize(deblur_sequences.table,\n",
    "                                                        metadata_ecam)\n",
    "feature_table_viz.visualization"
   ]
  },
  {
   "cell_type": "markdown",
   "metadata": {},
   "source": [
    "## Generate a phylogenetic tree"
   ]
  },
  {
   "cell_type": "markdown",
   "metadata": {},
   "source": [
    "### 1. Download a backbone tree"
   ]
  },
  {
   "cell_type": "code",
   "execution_count": 18,
   "metadata": {},
   "outputs": [
    {
     "name": "stdout",
     "output_type": "stream",
     "text": [
      "--2020-01-13 19:55:03--  https://data.qiime2.org/2019.10/common/sepp-refs-gg-13-8.qza\n",
      "Resolving data.qiime2.org (data.qiime2.org)... 52.35.38.247\n",
      "Connecting to data.qiime2.org (data.qiime2.org)|52.35.38.247|:443... connected.\n",
      "HTTP request sent, awaiting response... 302 FOUND\n",
      "Location: https://s3-us-west-2.amazonaws.com/qiime2-data/2019.10/common/sepp-refs-gg-13-8.qza [following]\n",
      "--2020-01-13 19:55:03--  https://s3-us-west-2.amazonaws.com/qiime2-data/2019.10/common/sepp-refs-gg-13-8.qza\n",
      "Resolving s3-us-west-2.amazonaws.com (s3-us-west-2.amazonaws.com)... 52.218.144.8\n",
      "Connecting to s3-us-west-2.amazonaws.com (s3-us-west-2.amazonaws.com)|52.218.144.8|:443... connected.\n",
      "HTTP request sent, awaiting response... 200 OK\n",
      "Length: 50161069 (48M) [binary/octet-stream]\n",
      "Saving to: ‘.//sepp-refs-gg-13-8.qza’\n",
      "\n",
      ".//sepp-refs-gg-13- 100%[===================>]  47.84M  3.18MB/s    in 13s     \n",
      "\n",
      "2020-01-13 19:55:16 (3.72 MB/s) - ‘.//sepp-refs-gg-13-8.qza’ saved [50161069/50161069]\n",
      "\n"
     ]
    }
   ],
   "source": [
    "!wget \\\n",
    "  -O $workdir/sepp-refs-gg-13-8.qza \\\n",
    "  \"https://data.qiime2.org/2019.10/common/sepp-refs-gg-13-8.qza\""
   ]
  },
  {
   "cell_type": "code",
   "execution_count": 19,
   "metadata": {},
   "outputs": [],
   "source": [
    "sepp_reference_db = qiime2.Artifact.load(workdir+'sepp-refs-gg-13-8.qza')"
   ]
  },
  {
   "cell_type": "markdown",
   "metadata": {},
   "source": [
    "### 2. Create an insertion tree"
   ]
  },
  {
   "cell_type": "code",
   "execution_count": 20,
   "metadata": {},
   "outputs": [],
   "source": [
    "sepp_tree = fragment_insertion.methods.sepp(representative_sequences=deblur_sequences.representative_sequences,\n",
    "                                            reference_database=sepp_reference_db,\n",
    "                                            threads=1)"
   ]
  },
  {
   "cell_type": "markdown",
   "metadata": {},
   "source": [
    "### 3. Filter feature table"
   ]
  },
  {
   "cell_type": "code",
   "execution_count": 21,
   "metadata": {},
   "outputs": [],
   "source": [
    "filtered_deblur_sequences = fragment_insertion.methods.filter_features(deblur_sequences.table,\n",
    "                                                                       sepp_tree.tree)"
   ]
  },
  {
   "cell_type": "markdown",
   "metadata": {},
   "source": [
    "## Taxonomic classification"
   ]
  },
  {
   "cell_type": "markdown",
   "metadata": {},
   "source": [
    "### 1. Download and import required files"
   ]
  },
  {
   "cell_type": "code",
   "execution_count": 25,
   "metadata": {},
   "outputs": [
    {
     "name": "stdout",
     "output_type": "stream",
     "text": [
      "--2020-01-14 09:23:17--  https://github.com/BenKaehler/readytowear/raw/master/data/gg_13_8/515f-806r/human-stool.qza\n",
      "Resolving github.com (github.com)... 192.30.255.112\n",
      "Connecting to github.com (github.com)|192.30.255.112|:443... connected.\n",
      "HTTP request sent, awaiting response... 302 Found\n",
      "Location: https://raw.githubusercontent.com/BenKaehler/readytowear/master/data/gg_13_8/515f-806r/human-stool.qza [following]\n",
      "--2020-01-14 09:23:17--  https://raw.githubusercontent.com/BenKaehler/readytowear/master/data/gg_13_8/515f-806r/human-stool.qza\n",
      "Resolving raw.githubusercontent.com (raw.githubusercontent.com)... 151.101.196.133\n",
      "Connecting to raw.githubusercontent.com (raw.githubusercontent.com)|151.101.196.133|:443... connected.\n",
      "HTTP request sent, awaiting response... 200 OK\n",
      "Length: 209813 (205K) [application/octet-stream]\n",
      "Saving to: ‘./human-stool.qza’\n",
      "\n",
      "./human-stool.qza   100%[===================>] 204.90K  --.-KB/s    in 0.1s    \n",
      "\n",
      "2020-01-14 09:23:18 (1.34 MB/s) - ‘./human-stool.qza’ saved [209813/209813]\n",
      "\n"
     ]
    }
   ],
   "source": [
    "!wget -O $workdir'human-stool.qza' \\\n",
    "https://github.com/BenKaehler/readytowear/raw/master/data/gg_13_8/515f-806r/human-stool.qza"
   ]
  },
  {
   "cell_type": "code",
   "execution_count": 28,
   "metadata": {},
   "outputs": [],
   "source": [
    "human_stool = qiime2.Artifact.load(workdir+'human-stool.qza')"
   ]
  },
  {
   "cell_type": "code",
   "execution_count": 29,
   "metadata": {},
   "outputs": [
    {
     "name": "stdout",
     "output_type": "stream",
     "text": [
      "--2020-01-14 09:23:39--  https://github.com/BenKaehler/readytowear/raw/master/data/gg_13_8/515f-806r/ref-seqs-v4.qza\n",
      "Resolving github.com (github.com)... 192.30.255.112\n",
      "Connecting to github.com (github.com)|192.30.255.112|:443... connected.\n",
      "HTTP request sent, awaiting response... 302 Found\n",
      "Location: https://raw.githubusercontent.com/BenKaehler/readytowear/master/data/gg_13_8/515f-806r/ref-seqs-v4.qza [following]\n",
      "--2020-01-14 09:23:40--  https://raw.githubusercontent.com/BenKaehler/readytowear/master/data/gg_13_8/515f-806r/ref-seqs-v4.qza\n",
      "Resolving raw.githubusercontent.com (raw.githubusercontent.com)... 151.101.196.133\n",
      "Connecting to raw.githubusercontent.com (raw.githubusercontent.com)|151.101.196.133|:443... connected.\n",
      "HTTP request sent, awaiting response... 200 OK\n",
      "Length: 9319426 (8.9M) [application/octet-stream]\n",
      "Saving to: ‘./ref-seqs-v4.qza’\n",
      "\n",
      "./ref-seqs-v4.qza   100%[===================>]   8.89M  3.19MB/s    in 2.8s    \n",
      "\n",
      "2020-01-14 09:23:44 (3.19 MB/s) - ‘./ref-seqs-v4.qza’ saved [9319426/9319426]\n",
      "\n"
     ]
    }
   ],
   "source": [
    "!wget -O $workdir'ref-seqs-v4.qza' \\\n",
    "https://github.com/BenKaehler/readytowear/raw/master/data/gg_13_8/515f-806r/ref-seqs-v4.qza"
   ]
  },
  {
   "cell_type": "code",
   "execution_count": 31,
   "metadata": {},
   "outputs": [],
   "source": [
    "ref_seqs_v4 = qiime2.Artifact.load(workdir+'ref-seqs-v4.qza')"
   ]
  },
  {
   "cell_type": "code",
   "execution_count": 30,
   "metadata": {},
   "outputs": [
    {
     "name": "stdout",
     "output_type": "stream",
     "text": [
      "--2020-01-14 09:23:44--  https://github.com/BenKaehler/readytowear/raw/master/data/gg_13_8/515f-806r/ref-tax.qza\n",
      "Resolving github.com (github.com)... 192.30.255.112\n",
      "Connecting to github.com (github.com)|192.30.255.112|:443... connected.\n",
      "HTTP request sent, awaiting response... 302 Found\n",
      "Location: https://raw.githubusercontent.com/BenKaehler/readytowear/master/data/gg_13_8/515f-806r/ref-tax.qza [following]\n",
      "--2020-01-14 09:23:45--  https://raw.githubusercontent.com/BenKaehler/readytowear/master/data/gg_13_8/515f-806r/ref-tax.qza\n",
      "Resolving raw.githubusercontent.com (raw.githubusercontent.com)... 151.101.196.133\n",
      "Connecting to raw.githubusercontent.com (raw.githubusercontent.com)|151.101.196.133|:443... connected.\n",
      "HTTP request sent, awaiting response... 200 OK\n",
      "Length: 2604632 (2.5M) [application/octet-stream]\n",
      "Saving to: ‘./ref-tax.qza’\n",
      "\n",
      "./ref-tax.qza       100%[===================>]   2.48M  1.18MB/s    in 2.1s    \n",
      "\n",
      "2020-01-14 09:23:48 (1.18 MB/s) - ‘./ref-tax.qza’ saved [2604632/2604632]\n",
      "\n"
     ]
    }
   ],
   "source": [
    "!wget -O $workdir'ref-tax.qza' \\\n",
    "https://github.com/BenKaehler/readytowear/raw/master/data/gg_13_8/515f-806r/ref-tax.qza"
   ]
  },
  {
   "cell_type": "code",
   "execution_count": 32,
   "metadata": {},
   "outputs": [],
   "source": [
    "ref_tax = qiime2.Artifact.load(workdir+'ref-tax.qza')"
   ]
  },
  {
   "cell_type": "markdown",
   "metadata": {},
   "source": [
    "### 2. Train a classifier"
   ]
  },
  {
   "cell_type": "code",
   "execution_count": 33,
   "metadata": {},
   "outputs": [
    {
     "name": "stderr",
     "output_type": "stream",
     "text": [
      "/home/drz/Conda/envs/qiime2-2019.10/lib/python3.6/site-packages/q2_feature_classifier/classifier.py:102: UserWarning: The TaxonomicClassifier artifact that results from this method was trained using scikit-learn version 0.21.2. It cannot be used with other versions of scikit-learn. (While the classifier may complete successfully, the results will be unreliable.)\n",
      "  warnings.warn(warning, UserWarning)\n"
     ]
    }
   ],
   "source": [
    "human_stool_v4_classifier = feature_classifier.methods.fit_classifier_naive_bayes(ref_seqs_v4,\n",
    "                                                                                  ref_tax,\n",
    "                                                                                  human_stool)"
   ]
  },
  {
   "cell_type": "markdown",
   "metadata": {},
   "source": [
    "### 3. Assign taxonomy"
   ]
  },
  {
   "cell_type": "code",
   "execution_count": 34,
   "metadata": {},
   "outputs": [],
   "source": [
    "taxonomy = feature_classifier.methods.classify_sklearn(deblur_sequences.representative_sequences,\n",
    "                                                       human_stool_v4_classifier.classifier)"
   ]
  },
  {
   "cell_type": "markdown",
   "metadata": {},
   "source": [
    "### 4. Visualize taxonomies"
   ]
  },
  {
   "cell_type": "code",
   "execution_count": 35,
   "metadata": {},
   "outputs": [
    {
     "data": {
      "text/html": [
       "<div><img onload=\"(function(div, url){\n",
       "if (typeof require !== 'undefined') {\n",
       "    var baseURL = require.toUrl('').split('/').slice(0, -2).join('/');\n",
       "} else {\n",
       "    var baseURL = JSON.parse(\n",
       "        document.getElementById('jupyter-config-data').innerHTML\n",
       "    ).baseUrl.slice(0, -1);\n",
       "}\n",
       "url = baseURL + url;\n",
       "fetch(url).then(function(res) {\n",
       "    if (res.status === 404) {\n",
       "        div.innerHTML = 'Install QIIME 2 Jupyter extension with:<br />' +\n",
       "                        '<code>jupyter serverextension enable --py qiime2' +\n",
       "                        ' --sys-prefix</code><br />then restart your server.' +\n",
       "                        '<br /><br />(Interactive output not available on ' +\n",
       "                        'static notebook viewer services like nbviewer.)';\n",
       "    } else if (res.status === 409) {\n",
       "        div.innerHTML = 'Visualization no longer in scope. Re-run this cell' +\n",
       "                        ' to see the visualization.';\n",
       "    } else if (res.ok) {\n",
       "        url = res.url;\n",
       "        div.innerHTML = '<iframe src=\\'' + url + '\\' style=\\'' +\n",
       "                        'width: 100%; height: 700px; border: 0;\\'>' +\n",
       "                        '</iframe><hr />Open in a: <a href=\\'' + url + '\\'' +\n",
       "                        ' target=\\'_blank\\'>new window</a>'\n",
       "    } else {\n",
       "        div.innerHTML = 'Something has gone wrong. Check notebook server for' +\n",
       "                        ' errors.';\n",
       "    }\n",
       "});\n",
       "})(this.parentElement, '/qiime2/redirect?location=/tmp/qiime2-archive-fmhh7k7z')\" src=\"data:image/gif;base64,R0lGODlhAQABAIAAAP///wAAACH5BAEAAAAALAAAAAABAAEAAAICRAEAOw==\" /></div>"
      ],
      "text/plain": [
       "<visualization: Visualization uuid: 42f28c42-ad4e-4020-8c0e-d371f99adfc2>"
      ]
     },
     "execution_count": 35,
     "metadata": {},
     "output_type": "execute_result"
    }
   ],
   "source": [
    "taxonomy_viz = metadata.visualizers.tabulate(taxonomy.classification.view(qiime2.Metadata))\n",
    "taxonomy_viz.visualization"
   ]
  },
  {
   "cell_type": "markdown",
   "metadata": {},
   "source": [
    "## Filter ECAM data to contain children samples only"
   ]
  },
  {
   "cell_type": "markdown",
   "metadata": {},
   "source": [
    "### 1. Filter feature table"
   ]
  },
  {
   "cell_type": "code",
   "execution_count": 36,
   "metadata": {},
   "outputs": [],
   "source": [
    "child_only = feature_table.methods.filter_samples(deblur_sequences.table,\n",
    "                                                  metadata=metadata_ecam,\n",
    "                                                  where=\"[mom_or_child]='C'\")"
   ]
  },
  {
   "cell_type": "markdown",
   "metadata": {},
   "source": [
    "### 2. Visualize new feature table"
   ]
  },
  {
   "cell_type": "code",
   "execution_count": 37,
   "metadata": {
    "scrolled": true
   },
   "outputs": [
    {
     "name": "stderr",
     "output_type": "stream",
     "text": [
      "/home/drz/Conda/envs/qiime2-2019.10/lib/python3.6/site-packages/q2_feature_table/_summarize/_visualizer.py:122: FutureWarning: The signature of `Series.to_csv` was aligned to that of `DataFrame.to_csv`, and argument 'header' will change its default value from False to True: please pass an explicit value to suppress this warning.\n",
      "  os.path.join(output_dir, 'sample-frequency-detail.csv'))\n",
      "/home/drz/Conda/envs/qiime2-2019.10/lib/python3.6/site-packages/q2_feature_table/_summarize/_visualizer.py:124: FutureWarning: The signature of `Series.to_csv` was aligned to that of `DataFrame.to_csv`, and argument 'header' will change its default value from False to True: please pass an explicit value to suppress this warning.\n",
      "  os.path.join(output_dir, 'feature-frequency-detail.csv'))\n"
     ]
    },
    {
     "data": {
      "text/html": [
       "<div><img onload=\"(function(div, url){\n",
       "if (typeof require !== 'undefined') {\n",
       "    var baseURL = require.toUrl('').split('/').slice(0, -2).join('/');\n",
       "} else {\n",
       "    var baseURL = JSON.parse(\n",
       "        document.getElementById('jupyter-config-data').innerHTML\n",
       "    ).baseUrl.slice(0, -1);\n",
       "}\n",
       "url = baseURL + url;\n",
       "fetch(url).then(function(res) {\n",
       "    if (res.status === 404) {\n",
       "        div.innerHTML = 'Install QIIME 2 Jupyter extension with:<br />' +\n",
       "                        '<code>jupyter serverextension enable --py qiime2' +\n",
       "                        ' --sys-prefix</code><br />then restart your server.' +\n",
       "                        '<br /><br />(Interactive output not available on ' +\n",
       "                        'static notebook viewer services like nbviewer.)';\n",
       "    } else if (res.status === 409) {\n",
       "        div.innerHTML = 'Visualization no longer in scope. Re-run this cell' +\n",
       "                        ' to see the visualization.';\n",
       "    } else if (res.ok) {\n",
       "        url = res.url;\n",
       "        div.innerHTML = '<iframe src=\\'' + url + '\\' style=\\'' +\n",
       "                        'width: 100%; height: 700px; border: 0;\\'>' +\n",
       "                        '</iframe><hr />Open in a: <a href=\\'' + url + '\\'' +\n",
       "                        ' target=\\'_blank\\'>new window</a>'\n",
       "    } else {\n",
       "        div.innerHTML = 'Something has gone wrong. Check notebook server for' +\n",
       "                        ' errors.';\n",
       "    }\n",
       "});\n",
       "})(this.parentElement, '/qiime2/redirect?location=/tmp/qiime2-archive-ehdh433x')\" src=\"data:image/gif;base64,R0lGODlhAQABAIAAAP///wAAACH5BAEAAAAALAAAAAABAAEAAAICRAEAOw==\" /></div>"
      ],
      "text/plain": [
       "<visualization: Visualization uuid: 914c6673-5b6c-4459-af1d-67932b559662>"
      ]
     },
     "execution_count": 37,
     "metadata": {},
     "output_type": "execute_result"
    }
   ],
   "source": [
    "child_only_viz = feature_table.visualizers.summarize(child_only.filtered_table,\n",
    "                                                     metadata_ecam)\n",
    "child_only_viz.visualization"
   ]
  },
  {
   "cell_type": "markdown",
   "metadata": {},
   "source": [
    "## Alpha rarefaction plots"
   ]
  },
  {
   "cell_type": "code",
   "execution_count": 38,
   "metadata": {},
   "outputs": [],
   "source": [
    "alpha_rarefaction = diversity.visualizers.alpha_rarefaction(child_only.filtered_table,\n",
    "                                                            phylogeny=sepp_tree.tree,\n",
    "                                                            max_depth=10000,\n",
    "                                                            metadata=metadata_ecam)"
   ]
  },
  {
   "cell_type": "markdown",
   "metadata": {},
   "source": [
    "## Basic data exploration and diversity analyses"
   ]
  },
  {
   "cell_type": "markdown",
   "metadata": {},
   "source": [
    "### 0. Filter feature table to include only one sample per subject per month"
   ]
  },
  {
   "cell_type": "code",
   "execution_count": 39,
   "metadata": {},
   "outputs": [],
   "source": [
    "child_only_norep = feature_table.methods.filter_samples(child_only.filtered_table,\n",
    "                                                           metadata=metadata_ecam,\n",
    "                                                           where=\"[month_replicate]='no'\")"
   ]
  },
  {
   "cell_type": "code",
   "execution_count": 40,
   "metadata": {},
   "outputs": [
    {
     "name": "stderr",
     "output_type": "stream",
     "text": [
      "/home/drz/Conda/envs/qiime2-2019.10/lib/python3.6/site-packages/q2_feature_table/_summarize/_visualizer.py:122: FutureWarning: The signature of `Series.to_csv` was aligned to that of `DataFrame.to_csv`, and argument 'header' will change its default value from False to True: please pass an explicit value to suppress this warning.\n",
      "  os.path.join(output_dir, 'sample-frequency-detail.csv'))\n",
      "/home/drz/Conda/envs/qiime2-2019.10/lib/python3.6/site-packages/q2_feature_table/_summarize/_visualizer.py:124: FutureWarning: The signature of `Series.to_csv` was aligned to that of `DataFrame.to_csv`, and argument 'header' will change its default value from False to True: please pass an explicit value to suppress this warning.\n",
      "  os.path.join(output_dir, 'feature-frequency-detail.csv'))\n"
     ]
    },
    {
     "data": {
      "text/html": [
       "<div><img onload=\"(function(div, url){\n",
       "if (typeof require !== 'undefined') {\n",
       "    var baseURL = require.toUrl('').split('/').slice(0, -2).join('/');\n",
       "} else {\n",
       "    var baseURL = JSON.parse(\n",
       "        document.getElementById('jupyter-config-data').innerHTML\n",
       "    ).baseUrl.slice(0, -1);\n",
       "}\n",
       "url = baseURL + url;\n",
       "fetch(url).then(function(res) {\n",
       "    if (res.status === 404) {\n",
       "        div.innerHTML = 'Install QIIME 2 Jupyter extension with:<br />' +\n",
       "                        '<code>jupyter serverextension enable --py qiime2' +\n",
       "                        ' --sys-prefix</code><br />then restart your server.' +\n",
       "                        '<br /><br />(Interactive output not available on ' +\n",
       "                        'static notebook viewer services like nbviewer.)';\n",
       "    } else if (res.status === 409) {\n",
       "        div.innerHTML = 'Visualization no longer in scope. Re-run this cell' +\n",
       "                        ' to see the visualization.';\n",
       "    } else if (res.ok) {\n",
       "        url = res.url;\n",
       "        div.innerHTML = '<iframe src=\\'' + url + '\\' style=\\'' +\n",
       "                        'width: 100%; height: 700px; border: 0;\\'>' +\n",
       "                        '</iframe><hr />Open in a: <a href=\\'' + url + '\\'' +\n",
       "                        ' target=\\'_blank\\'>new window</a>'\n",
       "    } else {\n",
       "        div.innerHTML = 'Something has gone wrong. Check notebook server for' +\n",
       "                        ' errors.';\n",
       "    }\n",
       "});\n",
       "})(this.parentElement, '/qiime2/redirect?location=/tmp/qiime2-archive-95nl0lsz')\" src=\"data:image/gif;base64,R0lGODlhAQABAIAAAP///wAAACH5BAEAAAAALAAAAAABAAEAAAICRAEAOw==\" /></div>"
      ],
      "text/plain": [
       "<visualization: Visualization uuid: bc696cf7-1a6f-44db-a91a-728d285cc77e>"
      ]
     },
     "execution_count": 40,
     "metadata": {},
     "output_type": "execute_result"
    }
   ],
   "source": [
    "child_only_norep_viz = feature_table.visualizers.summarize(child_only_norep.filtered_table,\n",
    "                                                           metadata_ecam)\n",
    "child_only_norep_viz.visualization"
   ]
  },
  {
   "cell_type": "markdown",
   "metadata": {},
   "source": [
    "### 1. Generate taxonomic barplot"
   ]
  },
  {
   "cell_type": "code",
   "execution_count": 41,
   "metadata": {},
   "outputs": [
    {
     "data": {
      "text/html": [
       "<div><img onload=\"(function(div, url){\n",
       "if (typeof require !== 'undefined') {\n",
       "    var baseURL = require.toUrl('').split('/').slice(0, -2).join('/');\n",
       "} else {\n",
       "    var baseURL = JSON.parse(\n",
       "        document.getElementById('jupyter-config-data').innerHTML\n",
       "    ).baseUrl.slice(0, -1);\n",
       "}\n",
       "url = baseURL + url;\n",
       "fetch(url).then(function(res) {\n",
       "    if (res.status === 404) {\n",
       "        div.innerHTML = 'Install QIIME 2 Jupyter extension with:<br />' +\n",
       "                        '<code>jupyter serverextension enable --py qiime2' +\n",
       "                        ' --sys-prefix</code><br />then restart your server.' +\n",
       "                        '<br /><br />(Interactive output not available on ' +\n",
       "                        'static notebook viewer services like nbviewer.)';\n",
       "    } else if (res.status === 409) {\n",
       "        div.innerHTML = 'Visualization no longer in scope. Re-run this cell' +\n",
       "                        ' to see the visualization.';\n",
       "    } else if (res.ok) {\n",
       "        url = res.url;\n",
       "        div.innerHTML = '<iframe src=\\'' + url + '\\' style=\\'' +\n",
       "                        'width: 100%; height: 700px; border: 0;\\'>' +\n",
       "                        '</iframe><hr />Open in a: <a href=\\'' + url + '\\'' +\n",
       "                        ' target=\\'_blank\\'>new window</a>'\n",
       "    } else {\n",
       "        div.innerHTML = 'Something has gone wrong. Check notebook server for' +\n",
       "                        ' errors.';\n",
       "    }\n",
       "});\n",
       "})(this.parentElement, '/qiime2/redirect?location=/tmp/qiime2-archive-sb08r2zk')\" src=\"data:image/gif;base64,R0lGODlhAQABAIAAAP///wAAACH5BAEAAAAALAAAAAABAAEAAAICRAEAOw==\" /></div>"
      ],
      "text/plain": [
       "<visualization: Visualization uuid: 8ca0b5a4-7750-47bd-a1f8-381c17559b7a>"
      ]
     },
     "execution_count": 41,
     "metadata": {},
     "output_type": "execute_result"
    }
   ],
   "source": [
    "child_taxa = taxa.visualizers.barplot(child_only_norep.filtered_table,\n",
    "                                      taxonomy.classification,\n",
    "                                      metadata_ecam)\n",
    "child_taxa.visualization"
   ]
  },
  {
   "cell_type": "markdown",
   "metadata": {},
   "source": [
    "### 2. Compute alpha and beta diversity"
   ]
  },
  {
   "cell_type": "code",
   "execution_count": 42,
   "metadata": {},
   "outputs": [
    {
     "name": "stderr",
     "output_type": "stream",
     "text": [
      "/home/drz/Conda/envs/qiime2-2019.10/lib/python3.6/site-packages/sklearn/metrics/pairwise.py:1575: DataConversionWarning: Data was converted to boolean for metric jaccard\n",
      "  warnings.warn(msg, DataConversionWarning)\n",
      "/home/drz/Conda/envs/qiime2-2019.10/lib/python3.6/site-packages/skbio/stats/ordination/_principal_coordinate_analysis.py:152: RuntimeWarning: The result contains negative eigenvalues. Please compare their magnitude with the magnitude of some of the largest positive eigenvalues. If the negative ones are smaller, it's probably safe to ignore them, but if they are large in magnitude, the results won't be useful. See the Notes section for more details. The smallest eigenvalue is -0.010779779321162607 and the largest is 3.5825325637893943.\n",
      "  RuntimeWarning\n",
      "/home/drz/Conda/envs/qiime2-2019.10/lib/python3.6/site-packages/skbio/stats/ordination/_principal_coordinate_analysis.py:152: RuntimeWarning: The result contains negative eigenvalues. Please compare their magnitude with the magnitude of some of the largest positive eigenvalues. If the negative ones are smaller, it's probably safe to ignore them, but if they are large in magnitude, the results won't be useful. See the Notes section for more details. The smallest eigenvalue is -0.20946691248096477 and the largest is 6.512169796955515.\n",
      "  RuntimeWarning\n",
      "/home/drz/Conda/envs/qiime2-2019.10/lib/python3.6/site-packages/skbio/stats/ordination/_principal_coordinate_analysis.py:152: RuntimeWarning: The result contains negative eigenvalues. Please compare their magnitude with the magnitude of some of the largest positive eigenvalues. If the negative ones are smaller, it's probably safe to ignore them, but if they are large in magnitude, the results won't be useful. See the Notes section for more details. The smallest eigenvalue is -0.03994181483642884 and the largest is 4.136724669652165.\n",
      "  RuntimeWarning\n",
      "/home/drz/Conda/envs/qiime2-2019.10/lib/python3.6/site-packages/skbio/stats/ordination/_principal_coordinate_analysis.py:152: RuntimeWarning: The result contains negative eigenvalues. Please compare their magnitude with the magnitude of some of the largest positive eigenvalues. If the negative ones are smaller, it's probably safe to ignore them, but if they are large in magnitude, the results won't be useful. See the Notes section for more details. The smallest eigenvalue is -0.758764664726495 and the largest is 11.669677407091044.\n",
      "  RuntimeWarning\n"
     ]
    }
   ],
   "source": [
    "child_only_norep_core_metrics = diversity.pipelines.core_metrics_phylogenetic(child_only_norep.filtered_table,\n",
    "                                                                              phylogeny=sepp_tree.tree,\n",
    "                                                                              sampling_depth=3400,\n",
    "                                                                              metadata=metadata_ecam,\n",
    "                                                                              n_jobs=1)"
   ]
  },
  {
   "cell_type": "markdown",
   "metadata": {},
   "source": [
    "## Perform statistical tests on diversity and generate interactive visualization"
   ]
  },
  {
   "cell_type": "markdown",
   "metadata": {},
   "source": [
    "### 1. Statistical test on alpha diversity"
   ]
  },
  {
   "cell_type": "markdown",
   "metadata": {},
   "source": [
    "#### A. Across all time points"
   ]
  },
  {
   "cell_type": "code",
   "execution_count": 43,
   "metadata": {},
   "outputs": [
    {
     "data": {
      "text/html": [
       "<div><img onload=\"(function(div, url){\n",
       "if (typeof require !== 'undefined') {\n",
       "    var baseURL = require.toUrl('').split('/').slice(0, -2).join('/');\n",
       "} else {\n",
       "    var baseURL = JSON.parse(\n",
       "        document.getElementById('jupyter-config-data').innerHTML\n",
       "    ).baseUrl.slice(0, -1);\n",
       "}\n",
       "url = baseURL + url;\n",
       "fetch(url).then(function(res) {\n",
       "    if (res.status === 404) {\n",
       "        div.innerHTML = 'Install QIIME 2 Jupyter extension with:<br />' +\n",
       "                        '<code>jupyter serverextension enable --py qiime2' +\n",
       "                        ' --sys-prefix</code><br />then restart your server.' +\n",
       "                        '<br /><br />(Interactive output not available on ' +\n",
       "                        'static notebook viewer services like nbviewer.)';\n",
       "    } else if (res.status === 409) {\n",
       "        div.innerHTML = 'Visualization no longer in scope. Re-run this cell' +\n",
       "                        ' to see the visualization.';\n",
       "    } else if (res.ok) {\n",
       "        url = res.url;\n",
       "        div.innerHTML = '<iframe src=\\'' + url + '\\' style=\\'' +\n",
       "                        'width: 100%; height: 700px; border: 0;\\'>' +\n",
       "                        '</iframe><hr />Open in a: <a href=\\'' + url + '\\'' +\n",
       "                        ' target=\\'_blank\\'>new window</a>'\n",
       "    } else {\n",
       "        div.innerHTML = 'Something has gone wrong. Check notebook server for' +\n",
       "                        ' errors.';\n",
       "    }\n",
       "});\n",
       "})(this.parentElement, '/qiime2/redirect?location=/tmp/qiime2-archive-c7kyux10')\" src=\"data:image/gif;base64,R0lGODlhAQABAIAAAP///wAAACH5BAEAAAAALAAAAAABAAEAAAICRAEAOw==\" /></div>"
      ],
      "text/plain": [
       "<visualization: Visualization uuid: fc5928b9-1769-4027-bb9d-8f0cb16b73cc>"
      ]
     },
     "execution_count": 43,
     "metadata": {},
     "output_type": "execute_result"
    }
   ],
   "source": [
    "shannon_child_only_norep_viz = \\\n",
    " diversity.visualizers.alpha_group_significance(child_only_norep_core_metrics.shannon_vector,\n",
    "                                                metadata_ecam)\n",
    "shannon_child_only_norep_viz.visualization"
   ]
  },
  {
   "cell_type": "markdown",
   "metadata": {},
   "source": [
    "#### B. At last time point (month 24)"
   ]
  },
  {
   "cell_type": "code",
   "execution_count": 44,
   "metadata": {},
   "outputs": [],
   "source": [
    "child_only_norep_C24 = feature_table.methods.filter_samples(child_only_norep.filtered_table,\n",
    "                                                            metadata=metadata_ecam,\n",
    "                                                            where=\"[month]='24'\")"
   ]
  },
  {
   "cell_type": "code",
   "execution_count": 45,
   "metadata": {},
   "outputs": [
    {
     "name": "stderr",
     "output_type": "stream",
     "text": [
      "/home/drz/Conda/envs/qiime2-2019.10/lib/python3.6/site-packages/sklearn/metrics/pairwise.py:1575: DataConversionWarning: Data was converted to boolean for metric jaccard\n",
      "  warnings.warn(msg, DataConversionWarning)\n",
      "/home/drz/Conda/envs/qiime2-2019.10/lib/python3.6/site-packages/skbio/stats/ordination/_principal_coordinate_analysis.py:152: RuntimeWarning: The result contains negative eigenvalues. Please compare their magnitude with the magnitude of some of the largest positive eigenvalues. If the negative ones are smaller, it's probably safe to ignore them, but if they are large in magnitude, the results won't be useful. See the Notes section for more details. The smallest eigenvalue is -0.02511398635318979 and the largest is 0.8601491353086329.\n",
      "  RuntimeWarning\n"
     ]
    }
   ],
   "source": [
    "child_only_norep_C24_core_metrics = diversity.pipelines.core_metrics_phylogenetic(child_only_norep_C24.filtered_table,\n",
    "                                                                                  phylogeny=sepp_tree.tree,\n",
    "                                                                                  sampling_depth=3400,\n",
    "                                                                                  metadata=metadata_ecam,\n",
    "                                                                                  n_jobs=1)"
   ]
  },
  {
   "cell_type": "code",
   "execution_count": 46,
   "metadata": {},
   "outputs": [
    {
     "data": {
      "text/html": [
       "<div><img onload=\"(function(div, url){\n",
       "if (typeof require !== 'undefined') {\n",
       "    var baseURL = require.toUrl('').split('/').slice(0, -2).join('/');\n",
       "} else {\n",
       "    var baseURL = JSON.parse(\n",
       "        document.getElementById('jupyter-config-data').innerHTML\n",
       "    ).baseUrl.slice(0, -1);\n",
       "}\n",
       "url = baseURL + url;\n",
       "fetch(url).then(function(res) {\n",
       "    if (res.status === 404) {\n",
       "        div.innerHTML = 'Install QIIME 2 Jupyter extension with:<br />' +\n",
       "                        '<code>jupyter serverextension enable --py qiime2' +\n",
       "                        ' --sys-prefix</code><br />then restart your server.' +\n",
       "                        '<br /><br />(Interactive output not available on ' +\n",
       "                        'static notebook viewer services like nbviewer.)';\n",
       "    } else if (res.status === 409) {\n",
       "        div.innerHTML = 'Visualization no longer in scope. Re-run this cell' +\n",
       "                        ' to see the visualization.';\n",
       "    } else if (res.ok) {\n",
       "        url = res.url;\n",
       "        div.innerHTML = '<iframe src=\\'' + url + '\\' style=\\'' +\n",
       "                        'width: 100%; height: 700px; border: 0;\\'>' +\n",
       "                        '</iframe><hr />Open in a: <a href=\\'' + url + '\\'' +\n",
       "                        ' target=\\'_blank\\'>new window</a>'\n",
       "    } else {\n",
       "        div.innerHTML = 'Something has gone wrong. Check notebook server for' +\n",
       "                        ' errors.';\n",
       "    }\n",
       "});\n",
       "})(this.parentElement, '/qiime2/redirect?location=/tmp/qiime2-archive-1xj3e5l5')\" src=\"data:image/gif;base64,R0lGODlhAQABAIAAAP///wAAACH5BAEAAAAALAAAAAABAAEAAAICRAEAOw==\" /></div>"
      ],
      "text/plain": [
       "<visualization: Visualization uuid: cead885b-4245-4797-b153-b1da82b3f350>"
      ]
     },
     "execution_count": 46,
     "metadata": {},
     "output_type": "execute_result"
    }
   ],
   "source": [
    "shannon_child_only_norep_C24_viz = \\\n",
    " diversity.visualizers.alpha_group_significance(child_only_norep_C24_core_metrics.shannon_vector,\n",
    "                                                metadata_ecam)\n",
    "shannon_child_only_norep_C24_viz.visualization"
   ]
  },
  {
   "cell_type": "markdown",
   "metadata": {},
   "source": [
    "### 2. Statistical test on beta diversity"
   ]
  },
  {
   "cell_type": "code",
   "execution_count": 47,
   "metadata": {},
   "outputs": [
    {
     "name": "stderr",
     "output_type": "stream",
     "text": [
      "/home/drz/Conda/envs/qiime2-2019.10/lib/python3.6/site-packages/seaborn/categorical.py:410: UserWarning: Attempted to set non-positive left xlim on a log-scaled axis.\n",
      "Invalid limit will be ignored.\n",
      "  ax.set_xlim(-.5, len(self.plot_data) - .5, auto=None)\n"
     ]
    }
   ],
   "source": [
    "uw_unifrac_delivery_child_only_norep_C24_viz = \\\n",
    " diversity.visualizers.beta_group_significance(child_only_norep_C24_core_metrics.unweighted_unifrac_distance_matrix,\n",
    "                                               metadata=metadata_ecam.get_column('delivery'),\n",
    "                                               pairwise=True)"
   ]
  },
  {
   "cell_type": "markdown",
   "metadata": {},
   "source": [
    "## Longitudinal data analysis"
   ]
  },
  {
   "cell_type": "markdown",
   "metadata": {},
   "source": [
    "### 1. Linear mixed effects models"
   ]
  },
  {
   "cell_type": "code",
   "execution_count": 48,
   "metadata": {},
   "outputs": [
    {
     "name": "stderr",
     "output_type": "stream",
     "text": [
      "/home/drz/Conda/envs/qiime2-2019.10/lib/python3.6/site-packages/sklearn/metrics/pairwise.py:1575: DataConversionWarning: Data was converted to boolean for metric jaccard\n",
      "  warnings.warn(msg, DataConversionWarning)\n",
      "/home/drz/Conda/envs/qiime2-2019.10/lib/python3.6/site-packages/skbio/stats/ordination/_principal_coordinate_analysis.py:152: RuntimeWarning: The result contains negative eigenvalues. Please compare their magnitude with the magnitude of some of the largest positive eigenvalues. If the negative ones are smaller, it's probably safe to ignore them, but if they are large in magnitude, the results won't be useful. See the Notes section for more details. The smallest eigenvalue is -0.02229010918297503 and the largest is 5.209201564660603.\n",
      "  RuntimeWarning\n",
      "/home/drz/Conda/envs/qiime2-2019.10/lib/python3.6/site-packages/skbio/stats/ordination/_principal_coordinate_analysis.py:152: RuntimeWarning: The result contains negative eigenvalues. Please compare their magnitude with the magnitude of some of the largest positive eigenvalues. If the negative ones are smaller, it's probably safe to ignore them, but if they are large in magnitude, the results won't be useful. See the Notes section for more details. The smallest eigenvalue is -0.31671612107152447 and the largest is 14.256093553196923.\n",
      "  RuntimeWarning\n",
      "/home/drz/Conda/envs/qiime2-2019.10/lib/python3.6/site-packages/skbio/stats/ordination/_principal_coordinate_analysis.py:152: RuntimeWarning: The result contains negative eigenvalues. Please compare their magnitude with the magnitude of some of the largest positive eigenvalues. If the negative ones are smaller, it's probably safe to ignore them, but if they are large in magnitude, the results won't be useful. See the Notes section for more details. The smallest eigenvalue is -0.05118883304967835 and the largest is 6.740974419922917.\n",
      "  RuntimeWarning\n",
      "/home/drz/Conda/envs/qiime2-2019.10/lib/python3.6/site-packages/skbio/stats/ordination/_principal_coordinate_analysis.py:152: RuntimeWarning: The result contains negative eigenvalues. Please compare their magnitude with the magnitude of some of the largest positive eigenvalues. If the negative ones are smaller, it's probably safe to ignore them, but if they are large in magnitude, the results won't be useful. See the Notes section for more details. The smallest eigenvalue is -0.963934484185845 and the largest is 20.7366781213963.\n",
      "  RuntimeWarning\n"
     ]
    }
   ],
   "source": [
    "child_only_core_metrics = diversity.pipelines.core_metrics_phylogenetic(child_only.filtered_table,\n",
    "                                                                        phylogeny=sepp_tree.tree,\n",
    "                                                                        sampling_depth=3400,\n",
    "                                                                        metadata=metadata_ecam,\n",
    "                                                                        n_jobs=1)"
   ]
  },
  {
   "cell_type": "code",
   "execution_count": 49,
   "metadata": {},
   "outputs": [],
   "source": [
    "metadata_ecam_w_shannon = metadata_ecam.merge(child_only_core_metrics.shannon_vector.view(qiime2.Metadata))"
   ]
  },
  {
   "cell_type": "code",
   "execution_count": 50,
   "metadata": {},
   "outputs": [
    {
     "name": "stderr",
     "output_type": "stream",
     "text": [
      "/home/drz/Conda/envs/qiime2-2019.10/lib/python3.6/site-packages/statsmodels/base/model.py:512: ConvergenceWarning: Maximum Likelihood optimization failed to converge. Check mle_retvals\n",
      "  \"Check mle_retvals\", ConvergenceWarning)\n",
      "/home/drz/Conda/envs/qiime2-2019.10/lib/python3.6/site-packages/statsmodels/regression/mixed_linear_model.py:2059: ConvergenceWarning: Retrying MixedLM optimization with lbfgs\n",
      "  ConvergenceWarning)\n",
      "/home/drz/Conda/envs/qiime2-2019.10/lib/python3.6/site-packages/statsmodels/regression/mixed_linear_model.py:2094: ConvergenceWarning: The MLE may be on the boundary of the parameter space.\n",
      "  warnings.warn(msg, ConvergenceWarning)\n",
      "/home/drz/Conda/envs/qiime2-2019.10/lib/python3.6/site-packages/statsmodels/regression/mixed_linear_model.py:2115: ConvergenceWarning: The Hessian matrix at the estimated parameter values is not positive definite.\n",
      "  warnings.warn(msg, ConvergenceWarning)\n",
      "/home/drz/Conda/envs/qiime2-2019.10/lib/python3.6/site-packages/statsmodels/base/model.py:1286: RuntimeWarning: invalid value encountered in sqrt\n",
      "  bse_ = np.sqrt(np.diag(self.cov_params()))\n",
      "/home/drz/Conda/envs/qiime2-2019.10/lib/python3.6/site-packages/q2_longitudinal/_longitudinal.py:291: UserWarning: This is only a warning, and the results of this action are still valid. The column name \"predicted shannon\" already exists in your metadata file. Any \"raw\" metadata that can be downloaded from the resulting visualization will contain overwritten values for this metadata column, not the original values.\n",
      "  warnings.warn(warning, UserWarning)\n"
     ]
    },
    {
     "data": {
      "text/html": [
       "<div><img onload=\"(function(div, url){\n",
       "if (typeof require !== 'undefined') {\n",
       "    var baseURL = require.toUrl('').split('/').slice(0, -2).join('/');\n",
       "} else {\n",
       "    var baseURL = JSON.parse(\n",
       "        document.getElementById('jupyter-config-data').innerHTML\n",
       "    ).baseUrl.slice(0, -1);\n",
       "}\n",
       "url = baseURL + url;\n",
       "fetch(url).then(function(res) {\n",
       "    if (res.status === 404) {\n",
       "        div.innerHTML = 'Install QIIME 2 Jupyter extension with:<br />' +\n",
       "                        '<code>jupyter serverextension enable --py qiime2' +\n",
       "                        ' --sys-prefix</code><br />then restart your server.' +\n",
       "                        '<br /><br />(Interactive output not available on ' +\n",
       "                        'static notebook viewer services like nbviewer.)';\n",
       "    } else if (res.status === 409) {\n",
       "        div.innerHTML = 'Visualization no longer in scope. Re-run this cell' +\n",
       "                        ' to see the visualization.';\n",
       "    } else if (res.ok) {\n",
       "        url = res.url;\n",
       "        div.innerHTML = '<iframe src=\\'' + url + '\\' style=\\'' +\n",
       "                        'width: 100%; height: 700px; border: 0;\\'>' +\n",
       "                        '</iframe><hr />Open in a: <a href=\\'' + url + '\\'' +\n",
       "                        ' target=\\'_blank\\'>new window</a>'\n",
       "    } else {\n",
       "        div.innerHTML = 'Something has gone wrong. Check notebook server for' +\n",
       "                        ' errors.';\n",
       "    }\n",
       "});\n",
       "})(this.parentElement, '/qiime2/redirect?location=/tmp/qiime2-archive-6ay5k005')\" src=\"data:image/gif;base64,R0lGODlhAQABAIAAAP///wAAACH5BAEAAAAALAAAAAABAAEAAAICRAEAOw==\" /></div>"
      ],
      "text/plain": [
       "<visualization: Visualization uuid: 8b0ce6a6-38c5-4b7b-be5b-ea291883e562>"
      ]
     },
     "execution_count": 50,
     "metadata": {},
     "output_type": "execute_result"
    }
   ],
   "source": [
    "lme_shannon_child_only_viz = \\\n",
    " longitudinal.visualizers.linear_mixed_effects(metadata=metadata_ecam_w_shannon,\n",
    "                                               metric='shannon',\n",
    "                                               random_effects='day_of_life',\n",
    "                                               group_columns='delivery,diet',\n",
    "                                               state_column='day_of_life',\n",
    "                                               individual_id_column='host_subject_id')\n",
    "lme_shannon_child_only_viz.visualization"
   ]
  },
  {
   "cell_type": "markdown",
   "metadata": {},
   "source": [
    "### 2. Volatility visualization"
   ]
  },
  {
   "cell_type": "code",
   "execution_count": 51,
   "metadata": {},
   "outputs": [
    {
     "data": {
      "text/html": [
       "<div><img onload=\"(function(div, url){\n",
       "if (typeof require !== 'undefined') {\n",
       "    var baseURL = require.toUrl('').split('/').slice(0, -2).join('/');\n",
       "} else {\n",
       "    var baseURL = JSON.parse(\n",
       "        document.getElementById('jupyter-config-data').innerHTML\n",
       "    ).baseUrl.slice(0, -1);\n",
       "}\n",
       "url = baseURL + url;\n",
       "fetch(url).then(function(res) {\n",
       "    if (res.status === 404) {\n",
       "        div.innerHTML = 'Install QIIME 2 Jupyter extension with:<br />' +\n",
       "                        '<code>jupyter serverextension enable --py qiime2' +\n",
       "                        ' --sys-prefix</code><br />then restart your server.' +\n",
       "                        '<br /><br />(Interactive output not available on ' +\n",
       "                        'static notebook viewer services like nbviewer.)';\n",
       "    } else if (res.status === 409) {\n",
       "        div.innerHTML = 'Visualization no longer in scope. Re-run this cell' +\n",
       "                        ' to see the visualization.';\n",
       "    } else if (res.ok) {\n",
       "        url = res.url;\n",
       "        div.innerHTML = '<iframe src=\\'' + url + '\\' style=\\'' +\n",
       "                        'width: 100%; height: 700px; border: 0;\\'>' +\n",
       "                        '</iframe><hr />Open in a: <a href=\\'' + url + '\\'' +\n",
       "                        ' target=\\'_blank\\'>new window</a>'\n",
       "    } else {\n",
       "        div.innerHTML = 'Something has gone wrong. Check notebook server for' +\n",
       "                        ' errors.';\n",
       "    }\n",
       "});\n",
       "})(this.parentElement, '/qiime2/redirect?location=/tmp/qiime2-archive-qaswdu5j')\" src=\"data:image/gif;base64,R0lGODlhAQABAIAAAP///wAAACH5BAEAAAAALAAAAAABAAEAAAICRAEAOw==\" /></div>"
      ],
      "text/plain": [
       "<visualization: Visualization uuid: e2ebda78-3f54-4336-97d2-e29152ccf884>"
      ]
     },
     "execution_count": 51,
     "metadata": {},
     "output_type": "execute_result"
    }
   ],
   "source": [
    "volatility_shannon_child_only_viz = \\\n",
    " longitudinal.visualizers.volatility(metadata_ecam_w_shannon,\n",
    "                                     default_metric='shannon',\n",
    "                                     default_group_column='delivery',\n",
    "                                     state_column='day_of_life',\n",
    "                                     individual_id_column='host_subject_id')\n",
    "volatility_shannon_child_only_viz.visualization"
   ]
  },
  {
   "cell_type": "markdown",
   "metadata": {},
   "source": [
    "## Differential abundance testing"
   ]
  },
  {
   "cell_type": "markdown",
   "metadata": {},
   "source": [
    "### Option 1: ANCOM"
   ]
  },
  {
   "cell_type": "code",
   "execution_count": 52,
   "metadata": {},
   "outputs": [],
   "source": [
    "# Create a new feature table that contains only samples from children at 6 months\n",
    "child_only_norep_C6 = feature_table.methods.filter_samples(child_only_norep.filtered_table,\n",
    "                                                           metadata=metadata_ecam,\n",
    "                                                           where=\"[month]='6'\")"
   ]
  },
  {
   "cell_type": "code",
   "execution_count": 53,
   "metadata": {},
   "outputs": [],
   "source": [
    "# filter out low abundant features\n",
    "filtered_child_only_norep_C6 = feature_table.methods.filter_features(child_only_norep_C6.filtered_table,\n",
    "                                                                     min_samples=5,\n",
    "                                                                     min_frequency=20)"
   ]
  },
  {
   "cell_type": "code",
   "execution_count": 54,
   "metadata": {},
   "outputs": [],
   "source": [
    "# add a pseudocount\n",
    "composition_table_C6 = composition.methods.add_pseudocount(filtered_child_only_norep_C6.filtered_table)"
   ]
  },
  {
   "cell_type": "code",
   "execution_count": 55,
   "metadata": {},
   "outputs": [],
   "source": [
    "# run ANCOM\n",
    "ancom_C6_delivery = composition.visualizers.ancom(composition_table_C6.composition_table,\n",
    "                                                  metadata_ecam.get_column('delivery'))"
   ]
  },
  {
   "cell_type": "markdown",
   "metadata": {},
   "source": [
    "### Option 2: songbird"
   ]
  },
  {
   "cell_type": "code",
   "execution_count": 56,
   "metadata": {},
   "outputs": [],
   "source": [
    "# make a folder to store songbird results\n",
    "!mkdir $workdir/songbird-results"
   ]
  },
  {
   "cell_type": "code",
   "execution_count": 57,
   "metadata": {},
   "outputs": [
    {
     "name": "stdout",
     "output_type": "stream",
     "text": [
      "WARNING:tensorflow:From /home/drz/Conda/envs/qiime2-2019.10/lib/python3.6/site-packages/songbird/q2/_method.py:53: The name tf.Session is deprecated. Please use tf.compat.v1.Session instead.\n",
      "\n",
      "WARNING:tensorflow:From /home/drz/Conda/envs/qiime2-2019.10/lib/python3.6/site-packages/songbird/multinomial.py:75: multinomial (from tensorflow.python.ops.random_ops) is deprecated and will be removed in a future version.\n",
      "Instructions for updating:\n",
      "Use `tf.random.categorical` instead.\n",
      "WARNING:tensorflow:From /home/drz/Conda/envs/qiime2-2019.10/lib/python3.6/site-packages/songbird/multinomial.py:86: The name tf.random_normal is deprecated. Please use tf.random.normal instead.\n",
      "\n",
      "WARNING:tensorflow:From /home/drz/Conda/envs/qiime2-2019.10/lib/python3.6/site-packages/songbird/multinomial.py:91: Normal.__init__ (from tensorflow.python.ops.distributions.normal) is deprecated and will be removed after 2019-01-01.\n",
      "Instructions for updating:\n",
      "The TensorFlow Distributions library has moved to TensorFlow Probability (https://github.com/tensorflow/probability). You should update all references to use `tfp.distributions` instead of `tf.distributions`.\n",
      "WARNING:tensorflow:From /home/drz/Conda/envs/qiime2-2019.10/lib/python3.6/site-packages/tensorflow/python/ops/distributions/normal.py:160: Distribution.__init__ (from tensorflow.python.ops.distributions.distribution) is deprecated and will be removed after 2019-01-01.\n",
      "Instructions for updating:\n",
      "The TensorFlow Distributions library has moved to TensorFlow Probability (https://github.com/tensorflow/probability). You should update all references to use `tfp.distributions` instead of `tf.distributions`.\n",
      "WARNING:tensorflow:From /home/drz/Conda/envs/qiime2-2019.10/lib/python3.6/site-packages/songbird/multinomial.py:100: Multinomial.__init__ (from tensorflow.python.ops.distributions.multinomial) is deprecated and will be removed after 2019-01-01.\n",
      "Instructions for updating:\n",
      "The TensorFlow Distributions library has moved to TensorFlow Probability (https://github.com/tensorflow/probability). You should update all references to use `tfp.distributions` instead of `tf.distributions`.\n",
      "WARNING:tensorflow:From /home/drz/Conda/envs/qiime2-2019.10/lib/python3.6/site-packages/songbird/multinomial.py:115: The name tf.summary.scalar is deprecated. Please use tf.compat.v1.summary.scalar instead.\n",
      "\n",
      "WARNING:tensorflow:From /home/drz/Conda/envs/qiime2-2019.10/lib/python3.6/site-packages/songbird/multinomial.py:121: The name tf.train.AdamOptimizer is deprecated. Please use tf.compat.v1.train.AdamOptimizer instead.\n",
      "\n"
     ]
    },
    {
     "name": "stderr",
     "output_type": "stream",
     "text": [
      "/home/drz/Conda/envs/qiime2-2019.10/lib/python3.6/site-packages/biom/table.py:4049: FutureWarning: SparseSeries is deprecated and will be removed in a future version.\n",
      "Use a Series with sparse values instead.\n",
      "\n",
      "    >>> series = pd.Series(pd.SparseArray(...))\n",
      "\n",
      "See http://pandas.pydata.org/pandas-docs/stable/user_guide/sparse.html#migrating for more.\n",
      "\n",
      "  for r in self.matrix_data.tocsr()]\n",
      "/home/drz/Conda/envs/qiime2-2019.10/lib/python3.6/site-packages/biom/table.py:4052: FutureWarning: SparseDataFrame is deprecated and will be removed in a future version.\n",
      "Use a regular DataFrame whose columns are SparseArrays instead.\n",
      "\n",
      "See http://pandas.pydata.org/pandas-docs/stable/user_guide/sparse.html#migrating for more.\n",
      "\n",
      "  return constructor(mat, index=index, columns=columns)\n",
      "/home/drz/Conda/envs/qiime2-2019.10/lib/python3.6/site-packages/pandas/core/frame.py:3471: FutureWarning: SparseSeries is deprecated and will be removed in a future version.\n",
      "Use a Series with sparse values instead.\n",
      "\n",
      "    >>> series = pd.Series(pd.SparseArray(...))\n",
      "\n",
      "See http://pandas.pydata.org/pandas-docs/stable/user_guide/sparse.html#migrating for more.\n",
      "\n",
      "  return klass(values, index=self.index, name=items, fastpath=True)\n"
     ]
    },
    {
     "name": "stdout",
     "output_type": "stream",
     "text": [
      "WARNING:tensorflow:From /home/drz/Conda/envs/qiime2-2019.10/lib/python3.6/site-packages/tensorflow/python/ops/clip_ops.py:286: add_dispatch_support.<locals>.wrapper (from tensorflow.python.ops.array_ops) is deprecated and will be removed in a future version.\n",
      "Instructions for updating:\n",
      "Use tf.where in 2.0, which has the same broadcast rule as np.where\n",
      "WARNING:tensorflow:From /home/drz/Conda/envs/qiime2-2019.10/lib/python3.6/site-packages/songbird/multinomial.py:129: The name tf.summary.histogram is deprecated. Please use tf.compat.v1.summary.histogram instead.\n",
      "\n",
      "WARNING:tensorflow:From /home/drz/Conda/envs/qiime2-2019.10/lib/python3.6/site-packages/songbird/multinomial.py:130: The name tf.summary.merge_all is deprecated. Please use tf.compat.v1.summary.merge_all instead.\n",
      "\n",
      "WARNING:tensorflow:From /home/drz/Conda/envs/qiime2-2019.10/lib/python3.6/site-packages/songbird/multinomial.py:136: The name tf.global_variables_initializer is deprecated. Please use tf.compat.v1.global_variables_initializer instead.\n",
      "\n",
      "WARNING:tensorflow:From /home/drz/Conda/envs/qiime2-2019.10/lib/python3.6/site-packages/songbird/multinomial.py:163: The name tf.train.Saver is deprecated. Please use tf.compat.v1.train.Saver instead.\n",
      "\n"
     ]
    },
    {
     "name": "stderr",
     "output_type": "stream",
     "text": [
      "\r",
      "  0%|          | 0/60000 [00:00<?, ?it/s]"
     ]
    },
    {
     "name": "stdout",
     "output_type": "stream",
     "text": [
      "WARNING:tensorflow:From /home/drz/Conda/envs/qiime2-2019.10/lib/python3.6/site-packages/songbird/multinomial.py:172: The name tf.RunOptions is deprecated. Please use tf.compat.v1.RunOptions instead.\n",
      "\n",
      "WARNING:tensorflow:From /home/drz/Conda/envs/qiime2-2019.10/lib/python3.6/site-packages/songbird/multinomial.py:174: The name tf.RunMetadata is deprecated. Please use tf.compat.v1.RunMetadata instead.\n",
      "\n"
     ]
    },
    {
     "name": "stderr",
     "output_type": "stream",
     "text": [
      "100%|██████████| 60000/60000 [01:13<00:00, 820.74it/s]\n"
     ]
    }
   ],
   "source": [
    "# run songbird\n",
    "songbird_norep_C6 = songbird.methods.multinomial(child_only_norep_C6.filtered_table,\n",
    "                                                 metadata_ecam,\n",
    "                                                 formula=\"delivery+abx_exposure+diet+sex\",\n",
    "                                                 epochs=10000,\n",
    "                                                 differential_prior=0.5)"
   ]
  },
  {
   "cell_type": "code",
   "execution_count": 58,
   "metadata": {},
   "outputs": [],
   "source": [
    "# examine estimated coefficients\n",
    "songbird_norep_C6.differentials.export_data(workdir+'songbird-results/differentials6monthControlled')"
   ]
  },
  {
   "cell_type": "markdown",
   "metadata": {},
   "source": [
    "## Meta-analysis through Qiita database using redbiom"
   ]
  },
  {
   "cell_type": "markdown",
   "metadata": {},
   "source": [
    "NOTE: there is no redbiom Python API, so the commands below are a copy from the CLI notebook"
   ]
  },
  {
   "cell_type": "code",
   "execution_count": 59,
   "metadata": {},
   "outputs": [
    {
     "name": "stdout",
     "output_type": "stream",
     "text": [
      "ContextName\tSamplesWithData\tFeaturesWithData\tDescription\r\n",
      "Pick_closed-reference_OTUs-Greengenes-Illumina-16S-V34-5c6506\t72\t2221\tPick closed-reference OTUs (reference-seq: |databases|gg|13_8|rep_set|97_otus.fasta) | Split libraries FASTQ\r\n",
      "Deblur-Illumina-16S-V3-V4-150nt-780653\t60\t869\tDeblur (Reference phylogeny for SEPP: Greengenes_13.8, BIOM: reference-hit.biom) | Trimming (length: 150)\r\n",
      "Pick_closed-reference_OTUs-Greengenes-IonTorrent-16S-V3-100nt-a243a1\t32\t1089\tPick closed-reference OTUs (reference-seq: |databases|gg|13_8|rep_set|97_otus.fasta) | Trimming (length: 100)\r\n",
      "Pick_closed-reference_OTUs-SILVA-Illumina-16S-V3-54d83f\t138\t1014\tPick closed-reference OTUs (reference-seq: |projects|qiita_data|reference|silva_119_Silva_119_rep_set97.fna) | Split libraries FASTQ\r\n",
      "Pick_closed-reference_OTUs-Greengenes-Illumina-16S-V4-150nt-bd7d4d\t137343\t71900\tPick closed-reference OTUs (reference-seq: |databases|gg|13_8|rep_set|97_otus.fasta) | Trimming (length: 150)\r\n",
      "Pick_closed-reference_OTUs-Greengenes-Illumina-16S-V4-90nt-44feac\t158652\t74095\tPick closed-reference OTUs (reference-seq: |databases|gg|13_8|rep_set|97_otus.fasta) | Trimming (length: 90)\r\n",
      "Pick_closed-reference_OTUs-Greengenes-IonTorrent-16S-V3-41ebc6\t32\t1433\tPick closed-reference OTUs (reference-seq: |databases|gg|13_8|rep_set|97_otus.fasta) | Split libraries\r\n",
      "Deblur-Illumina-16S-V9-100nt-fbc5b2\t319\t36485\tDeblur (Reference phylogeny for SEPP: Greengenes_13.8, BIOM: reference-hit.biom) | Trimming (length: 100)\r\n",
      "Pick_closed-reference_OTUs-Greengenes-Illumina-16S-V3-90nt-44feac\t1135\t14850\tPick closed-reference OTUs (reference-seq: |databases|gg|13_8|rep_set|97_otus.fasta) | Trimming (length: 90)\r\n",
      "Pick_closed-reference_OTUs-Greengenes-FASTA-16S-V3-150nt-bd7d4d\t18\t1705\tPick closed-reference OTUs (reference-seq: |databases|gg|13_8|rep_set|97_otus.fasta) | Trimming (length: 150)\r\n",
      "Pick_closed-reference_OTUs-Greengenes-Illumina-16S-V4-5c6506\t183600\t84058\tPick closed-reference OTUs (reference-seq: |databases|gg|13_8|rep_set|97_otus.fasta) | Split libraries FASTQ\r\n",
      "Deblur-Illumina-16S-V6-8-100nt-fbc5b2\t51\t2062\tDeblur (Reference phylogeny for SEPP: Greengenes_13.8, BIOM: reference-hit.biom) | Trimming (length: 100)\r\n",
      "Pick_closed-reference_OTUs-SILVA-LS454-16S-V3-100nt-cb8fea\t3358\t8501\tPick closed-reference OTUs (reference-seq: |projects|qiita_data|reference|silva_119_Silva_119_rep_set97.fna) | Trimming (length: 100)\r\n",
      "Pick_closed-reference_OTUs-SILVA-LS454-16S-V3-90nt-efd9ba\t3358\t7991\tPick closed-reference OTUs (reference-seq: |projects|qiita_data|reference|silva_119_Silva_119_rep_set97.fna) | Trimming (length: 90)\r\n",
      "Pick_closed-reference_OTUs-Greengenes-LS454-16S-V4-100nt-a243a1\t7493\t29896\tPick closed-reference OTUs (reference-seq: |databases|gg|13_8|rep_set|97_otus.fasta) | Trimming (length: 100)\r\n",
      "Pick_closed-reference_OTUs-Greengenes-IonTorrent-16S-V3-150nt-bd7d4d\t32\t1008\tPick closed-reference OTUs (reference-seq: |databases|gg|13_8|rep_set|97_otus.fasta) | Trimming (length: 150)\r\n",
      "Pick_closed-reference_OTUs-Greengenes-Illumina-16S-V9-58196d\t209\t2633\tPick closed-reference OTUs (reference-seq: |databases|gg|13_8|rep_set|97_otus.fasta) | Deblur (Reference phylogeny for SEPP: Greengenes_13.8)\r\n",
      "Pick_closed-reference_OTUs-SILVA-LS454-16S-V3-150nt-96e6a9\t3357\t10563\tPick closed-reference OTUs (reference-seq: |projects|qiita_data|reference|silva_119_Silva_119_rep_set97.fna) | Trimming (length: 150)\r\n",
      "Pick_closed-reference_OTUs-SILVA-LS454-16S-V4-150nt-96e6a9\t6067\t10792\tPick closed-reference OTUs (reference-seq: |projects|qiita_data|reference|silva_119_Silva_119_rep_set97.fna) | Trimming (length: 150)\r\n",
      "Deblur-Illumina-16S-V9-90nt-99d1d8\t319\t35817\tDeblur (Reference phylogeny for SEPP: Greengenes_13.8, BIOM: reference-hit.biom) | Trimming (length: 90)\r\n",
      "Deblur-Illumina-16S-V3-e40b83\t138\t7273\tDeblur (Reference phylogeny for SEPP: Greengenes_13.8, BIOM: reference-hit.biom) | Split libraries FASTQ\r\n",
      "Deblur-Illumina-16S-V3-90nt-99d1d8\t1130\t36905\tDeblur (Reference phylogeny for SEPP: Greengenes_13.8, BIOM: reference-hit.biom) | Trimming (length: 90)\r\n",
      "Deblur-Illumina-16S-V4-100nt-fbc5b2\t161625\t6148149\tDeblur (Reference phylogeny for SEPP: Greengenes_13.8, BIOM: reference-hit.biom) | Trimming (length: 100)\r\n",
      "Deblur-Illumina-16S-V3-150nt-780653\t1139\t9418\tDeblur (Reference phylogeny for SEPP: Greengenes_13.8, BIOM: reference-hit.biom) | Trimming (length: 150)\r\n",
      "Pick_closed-reference_OTUs-Greengenes-LS454-16S-V4-90nt-44feac\t7505\t27838\tPick closed-reference OTUs (reference-seq: |databases|gg|13_8|rep_set|97_otus.fasta) | Trimming (length: 90)\r\n",
      "Pick_closed-reference_OTUs-Greengenes-LS454-16S-V4-41ebc6\t7385\t27273\tPick closed-reference OTUs (reference-seq: |databases|gg|13_8|rep_set|97_otus.fasta) | Split libraries\r\n",
      "Pick_closed-reference_OTUs-Greengenes-LS454-16S-V6-100nt-a243a1\t221\t7294\tPick closed-reference OTUs (reference-seq: |databases|gg|13_8|rep_set|97_otus.fasta) | Trimming (length: 100)\r\n",
      "Deblur-Illumina-16S-V34-150nt-780653\t72\t7819\tDeblur (Reference phylogeny for SEPP: Greengenes_13.8, BIOM: reference-hit.biom) | Trimming (length: 150)\r\n",
      "Pick_closed-reference_OTUs-Greengenes-Illumina-16S-V9-100nt-a243a1\t321\t14922\tPick closed-reference OTUs (reference-seq: |databases|gg|13_8|rep_set|97_otus.fasta) | Trimming (length: 100)\r\n",
      "Deblur-Illumina-16S-V6-8-150nt-780653\t51\t3906\tDeblur (Reference phylogeny for SEPP: Greengenes_13.8, BIOM: reference-hit.biom) | Trimming (length: 150)\r\n",
      "Pick_closed-reference_OTUs-SILVA-LS454-16S-V4-100nt-cb8fea\t6067\t9921\tPick closed-reference OTUs (reference-seq: |projects|qiita_data|reference|silva_119_Silva_119_rep_set97.fna) | Trimming (length: 100)\r\n",
      "Deblur-Illumina-16S-V4-150nt-780653\t132667\t7430465\tDeblur (Reference phylogeny for SEPP: Greengenes_13.8, BIOM: reference-hit.biom) | Trimming (length: 150)\r\n",
      "Pick_closed-reference_OTUs-Greengenes-Illumina-16S-V6-8-100nt-a243a1\t51\t4586\tPick closed-reference OTUs (reference-seq: |databases|gg|13_8|rep_set|97_otus.fasta) | Trimming (length: 100)\r\n",
      "Pick_closed-reference_OTUs-SILVA-Illumina-16S-V4-54d83f\t850\t10235\tPick closed-reference OTUs (reference-seq: |projects|qiita_data|reference|silva_119_Silva_119_rep_set97.fna) | Split libraries FASTQ\r\n",
      "Deblur-Illumina-16S-V3-100nt-fbc5b2\t1130\t42073\tDeblur (Reference phylogeny for SEPP: Greengenes_13.8, BIOM: reference-hit.biom) | Trimming (length: 100)\r\n",
      "Deblur-Illumina-16S-V9-150nt-780653\t319\t266737\tDeblur (Reference phylogeny for SEPP: Greengenes_13.8, BIOM: reference-hit.biom) | Trimming (length: 150)\r\n",
      "Deblur-Illumina-16S-V4-125nt-3aae8b\t16576\t397934\tDeblur (Reference phylogeny for SEPP: Greengenes_13.8, BIOM: reference-hit.biom) | Trimming (length: 125)\r\n",
      "Pick_closed-reference_OTUs-SILVA-Illumina-16S-V4-d1cf1d\t20\t5361\tPick closed-reference OTUs (reference-seq: |projects|qiita_test_data|reference|Greengenes_13_8_gg_13_8-97_otus.fasta) | Split libraries FASTQ\r\n",
      "Pick_closed-reference_OTUs-Greengenes-Illumina-16S-V3-5c6506\t1366\t18170\tPick closed-reference OTUs (reference-seq: |databases|gg|13_8|rep_set|97_otus.fasta) | Split libraries FASTQ\r\n",
      "Pick_closed-reference_OTUs-Greengenes-LS454-16S-V5-V7-90nt-44feac\t84\t4246\tPick closed-reference OTUs (reference-seq: |databases|gg|13_8|rep_set|97_otus.fasta) | Trimming (length: 90)\r\n",
      "Pick_closed-reference_OTUs-SILVA-LS454-16S-V3-34e809\t3288\t6500\tPick closed-reference OTUs (reference-seq: |projects|qiita_data|reference|silva_119_Silva_119_rep_set97.fna) | Split libraries\r\n",
      "Pick_closed-reference_OTUs-Greengenes-Illumina-16S-V4-250nt-66a626\t174\t2686\tPick closed-reference OTUs (reference-seq: |databases|gg|13_8|rep_set|97_otus.fasta) | Trimming (length: 250)\r\n",
      "Pick_closed-reference_OTUs-Greengenes-Illumina-16S-V4-100nt-a243a1\t158990\t75814\tPick closed-reference OTUs (reference-seq: |databases|gg|13_8|rep_set|97_otus.fasta) | Trimming (length: 100)\r\n",
      "Pick_closed-reference_OTUs-Greengenes-Illumina-16S-V6-8-150nt-bd7d4d\t51\t4250\tPick closed-reference OTUs (reference-seq: |databases|gg|13_8|rep_set|97_otus.fasta) | Trimming (length: 150)\r\n",
      "Deblur-Illumina-16S-V4-250nt-3b87d8\t200\t14911\tDeblur (Reference phylogeny for SEPP: Greengenes_13.8, BIOM: reference-hit.biom) | Trimming (length: 250)\r\n",
      "Pick_closed-reference_OTUs-Greengenes-Illumina-16S-V4-41ebc6\t100\t14434\tPick closed-reference OTUs (reference-seq: |databases|gg|13_8|rep_set|97_otus.fasta) | Split libraries\r\n",
      "Pick_closed-reference_OTUs-SILVA-LS454-16S-V4-34e809\t6007\t12821\tPick closed-reference OTUs (reference-seq: |projects|qiita_data|reference|silva_119_Silva_119_rep_set97.fna) | Split libraries\r\n",
      "Pick_closed-reference_OTUs-Greengenes-LS454-16S-V5-V7-41ebc6\t84\t1697\tPick closed-reference OTUs (reference-seq: |databases|gg|13_8|rep_set|97_otus.fasta) | Split libraries\r\n",
      "Pick_closed-reference_OTUs-SILVA-LS454-16S-V4-90nt-efd9ba\t6067\t8982\tPick closed-reference OTUs (reference-seq: |projects|qiita_data|reference|silva_119_Silva_119_rep_set97.fna) | Trimming (length: 90)\r\n",
      "Pick_closed-reference_OTUs-Greengenes-LS454-16S-V3-90nt-44feac\t11899\t34392\tPick closed-reference OTUs (reference-seq: |databases|gg|13_8|rep_set|97_otus.fasta) | Trimming (length: 90)\r\n",
      "Pick_closed-reference_OTUs-Greengenes-Illumina-16S-V9-5c6506\t388\t5155\tPick closed-reference OTUs (reference-seq: |databases|gg|13_8|rep_set|97_otus.fasta) | Split libraries FASTQ\r\n",
      "Pick_closed-reference_OTUs-Greengenes-LS454-16S-V4-150nt-bd7d4d\t7544\t30847\tPick closed-reference OTUs (reference-seq: |databases|gg|13_8|rep_set|97_otus.fasta) | Trimming (length: 150)\r\n",
      "Pick_closed-reference_OTUs-Greengenes-LS454-16S-V3-150nt-bd7d4d\t11665\t35776\tPick closed-reference OTUs (reference-seq: |databases|gg|13_8|rep_set|97_otus.fasta) | Trimming (length: 150)\r\n",
      "Pick_closed-reference_OTUs-Greengenes-Illumina-16S-V4-200nt-a5e305\t7009\t16070\tPick closed-reference OTUs (reference-seq: |databases|gg|13_8|rep_set|97_otus.fasta) | Trimming (length: 200)\r\n",
      "Pick_closed-reference_OTUs-Greengenes-FASTA-16S-V3-90nt-44feac\t18\t1682\tPick closed-reference OTUs (reference-seq: |databases|gg|13_8|rep_set|97_otus.fasta) | Trimming (length: 90)\r\n",
      "Pick_closed-reference_OTUs-Greengenes-Illumina-16S-V9-150nt-bd7d4d\t263\t5054\tPick closed-reference OTUs (reference-seq: |databases|gg|13_8|rep_set|97_otus.fasta) | Trimming (length: 150)\r\n",
      "Deblur-Illumina-16S-V4-200nt-05cde0\t7009\t73599\tDeblur (Reference phylogeny for SEPP: Greengenes_13.8, BIOM: reference-hit.biom) | Trimming (length: 200)\r\n",
      "Pick_closed-reference_OTUs-Greengenes-Illumina-16S-V34-150nt-bd7d4d\t72\t2653\tPick closed-reference OTUs (reference-seq: |databases|gg|13_8|rep_set|97_otus.fasta) | Trimming (length: 150)\r\n",
      "Pick_closed-reference_OTUs-Greengenes-LS454-16S-V6-150nt-bd7d4d\t221\t7227\tPick closed-reference OTUs (reference-seq: |databases|gg|13_8|rep_set|97_otus.fasta) | Trimming (length: 150)\r\n",
      "Deblur-Illumina-16S-V4-90nt-99d1d8\t155887\t4861245\tDeblur (Reference phylogeny for SEPP: Greengenes_13.8, BIOM: reference-hit.biom) | Trimming (length: 90)\r\n",
      "Pick_closed-reference_OTUs-Greengenes-FASTA-16S-V3-5c6506\t18\t1741\tPick closed-reference OTUs (reference-seq: |databases|gg|13_8|rep_set|97_otus.fasta) | Split libraries FASTQ\r\n",
      "Pick_closed-reference_OTUs-Greengenes-LS454-16S-V3-41ebc6\t11760\t35159\tPick closed-reference OTUs (reference-seq: |databases|gg|13_8|rep_set|97_otus.fasta) | Split libraries\r\n",
      "Pick_closed-reference_OTUs-SILVA-Illumina-16S-V4-150nt-96e6a9\t751\t40335\tPick closed-reference OTUs (reference-seq: |projects|qiita_data|reference|silva_119_Silva_119_rep_set97.fna) | Trimming (length: 150)\r\n",
      "Pick_closed-reference_OTUs-Greengenes-LS454-16S-V5-V7-150nt-bd7d4d\t84\t4971\tPick closed-reference OTUs (reference-seq: |databases|gg|13_8|rep_set|97_otus.fasta) | Trimming (length: 150)\r\n",
      "Pick_closed-reference_OTUs-Greengenes-LS454-16S-V6-90nt-44feac\t221\t6572\tPick closed-reference OTUs (reference-seq: |databases|gg|13_8|rep_set|97_otus.fasta) | Trimming (length: 90)\r\n",
      "Pick_closed-reference_OTUs-Greengenes-LS454-16S-V6-41ebc6\t221\t8193\tPick closed-reference OTUs (reference-seq: |databases|gg|13_8|rep_set|97_otus.fasta) | Split libraries\r\n",
      "Deblur-Illumina-16S-V4-e40b83\t1785\t120797\tDeblur (Reference phylogeny for SEPP: Greengenes_13.8, BIOM: reference-hit.biom) | Split libraries FASTQ\r\n",
      "Pick_closed-reference_OTUs-Greengenes-IonTorrent-16S-V3-90nt-44feac\t32\t1065\tPick closed-reference OTUs (reference-seq: |databases|gg|13_8|rep_set|97_otus.fasta) | Trimming (length: 90)\r\n",
      "Pick_closed-reference_OTUs-Greengenes-Illumina-16S-V3-150nt-bd7d4d\t1156\t6942\tPick closed-reference OTUs (reference-seq: |databases|gg|13_8|rep_set|97_otus.fasta) | Trimming (length: 150)\r\n",
      "Pick_closed-reference_OTUs-Greengenes-not provided-16S-V4-150nt-bd7d4d\t1905\t10232\tPick closed-reference OTUs (reference-seq: |databases|gg|13_8|rep_set|97_otus.fasta) | Trimming (length: 150)\r\n",
      "Pick_closed-reference_OTUs-Greengenes-Illumina-16S-V9-90nt-44feac\t321\t11964\tPick closed-reference OTUs (reference-seq: |databases|gg|13_8|rep_set|97_otus.fasta) | Trimming (length: 90)\r\n",
      "Pick_closed-reference_OTUs-Greengenes-LS454-16S-V3-100nt-a243a1\t11908\t36166\tPick closed-reference OTUs (reference-seq: |databases|gg|13_8|rep_set|97_otus.fasta) | Trimming (length: 100)\r\n",
      "Pick_closed-reference_OTUs-Greengenes-Illumina-16S-V3-100nt-a243a1\t1135\t16186\tPick closed-reference OTUs (reference-seq: |databases|gg|13_8|rep_set|97_otus.fasta) | Trimming (length: 100)\r\n",
      "Pick_closed-reference_OTUs-Greengenes-LS454-16S-V5-V7-100nt-a243a1\t84\t4576\tPick closed-reference OTUs (reference-seq: |databases|gg|13_8|rep_set|97_otus.fasta) | Trimming (length: 100)\r\n",
      "Pick_closed-reference_OTUs-Greengenes-FASTA-16S-V3-100nt-a243a1\t18\t1706\tPick closed-reference OTUs (reference-seq: |databases|gg|13_8|rep_set|97_otus.fasta) | Trimming (length: 100)\r\n",
      "Pick_closed-reference_OTUs-Greengenes-Illumina-16S-V4-125nt-65468f\t18160\t41005\tPick closed-reference OTUs (reference-seq: |databases|gg|13_8|rep_set|97_otus.fasta) | Trimming (length: 125)\r\n",
      "Pick_closed-reference_OTUs-Greengenes-Illumina-16S-V4-58196d\t8468\t34789\tPick closed-reference OTUs (reference-seq: |databases|gg|13_8|rep_set|97_otus.fasta) | Deblur (Reference phylogeny for SEPP: Greengenes_13.8)\r\n",
      "Pick_closed-reference_OTUs-Greengenes-not provided-16S-V4-5c6506\t1905\t10244\tPick closed-reference OTUs (reference-seq: |databases|gg|13_8|rep_set|97_otus.fasta) | Split libraries FASTQ\r\n",
      "Pick_closed-reference_OTUs-SILVA-Illumina-16S-V4-90nt-efd9ba\t387\t5332\tPick closed-reference OTUs (reference-seq: |projects|qiita_data|reference|silva_119_Silva_119_rep_set97.fna) | Trimming (length: 90)\r\n",
      "\r\n"
     ]
    }
   ],
   "source": [
    "# check the name of contexts and number of samples and features indexed\n",
    "!redbiom summarize contexts"
   ]
  },
  {
   "cell_type": "code",
   "execution_count": 60,
   "metadata": {},
   "outputs": [],
   "source": [
    "# identify samples where interested sequence was observed\n",
    "!redbiom search features --context Deblur-Illumina-16S-V4-150nt-780653 \\\n",
    "TACGTAGGGTGCAAGCGTTATCCGGAATTATTGGGCGTAAAGGGCTCGTAGGCGGTTCGTCGCGTCCGGTGTGAAAGTCCATCGCTTAACGGTGGATCTGCGCCGGGTACGGGCGGGCTGGAGTGCGGTAGGGGAGACTGGAATTCCCGG > observed_samples.txt"
   ]
  },
  {
   "cell_type": "code",
   "execution_count": 61,
   "metadata": {},
   "outputs": [
    {
     "name": "stdout",
     "output_type": "stream",
     "text": [
      "Animal distal gut\t7124\r\n",
      "Animal surface\t331\r\n",
      "Surface (non-saline)\t204\r\n",
      "Sterile water blank\t102\r\n",
      "Animal secretion\t91\r\n",
      "animal distal gut\t68\r\n",
      "Animal corpus\t58\r\n",
      "Water (non-saline)\t15\r\n",
      "Plant corpus\t13\r\n",
      "Animal proximal gut\t12\r\n",
      "Aerosol (non-saline)\t9\r\n",
      "Soil (non-saline)\t6\r\n",
      "Water (saline)\t6\r\n",
      "Single strain\t6\r\n",
      "Sediment (saline)\t2\r\n",
      "not provided\t2\r\n",
      "Surface (saline)\t1\r\n",
      "\r\n",
      "Total samples\t8050\r\n"
     ]
    }
   ],
   "source": [
    "# search against only EMP samples\n",
    "!redbiom summarize samples \\\n",
    "  --category empo_3 \\\n",
    "  --from observed_samples.txt"
   ]
  },
  {
   "cell_type": "code",
   "execution_count": 62,
   "metadata": {},
   "outputs": [],
   "source": [
    "# search against infant samples\n",
    "!redbiom select samples-from-metadata \\\n",
    "  --context Deblur-Illumina-16S-V4-150nt-780653 \\\n",
    "  --from observed_samples.txt \"where (host_age < 3 or age < 3) and qiita_study_id != 10249\" > infant_samples.txt"
   ]
  },
  {
   "cell_type": "code",
   "execution_count": 63,
   "metadata": {},
   "outputs": [
    {
     "name": "stdout",
     "output_type": "stream",
     "text": [
      "live_births\n",
      "birth_complications\n",
      "weight_at_birth\n",
      "birth_weight_units\n",
      "birth_length_units\n",
      "child_1_birth_weight\n",
      "child_3_preterm_birth\n",
      "birth_wt\n",
      "date_of_birth\n",
      "child_3_birth_weight_unit\n",
      "birth_wt_sd\n",
      "child_3_birth_length_unit\n",
      "place_of_birth\n",
      "child_1_birth_length\n",
      "baby_birth_date\n",
      "child_3_birth_weight\n",
      "birth_ga_d_units\n",
      "birth_length\n",
      "country_of_birth\n",
      "child_2_birth_weight\n",
      "birth_ga_w_units\n",
      "child_3_birth_length\n",
      "child_2_birth_length_unit\n",
      "birth_head_cir_units\n",
      "birth_control\n",
      "birth\n",
      "birth_mode\n",
      "child_2_birth_weight_unit\n",
      "child_1_birth_weight_unit\n",
      "birth_weight\n",
      "birth_season\n",
      "birth_method\n",
      "antibiotics_at_birth\n",
      "birth_location\n",
      "birth_ga_d\n",
      "birth_days\n",
      "child_2_preterm_birth\n",
      "birth_head_cir\n",
      "birth_ga_w\n",
      "still_births\n",
      "child_1_birth_length_unit\n",
      "antibiotics_after_birth\n",
      "birth_year\n",
      "child_1_preterm_birth\n",
      "year_of_birth\n",
      "birth_date\n",
      "birth_route_2cat\n",
      "mouse_birth\n",
      "type_birth_location\n",
      "child_2_birth_length\n",
      "birth_method\t72\n",
      "birth_mode\t2176\n",
      "Vaginal\t38\n",
      "Cesarea\t16\n",
      "Vag\t3\n",
      "CSseed\t1\n",
      "\n",
      "Total samples\t58\n"
     ]
    }
   ],
   "source": [
    "# summarize the metadata of infant samples\n",
    "!redbiom search metadata \\\n",
    "  --categories birth\n",
    "\n",
    "!redbiom summarize metadata birth_method birth_mode\n",
    "\n",
    "!redbiom summarize samples \\\n",
    "     --category birth_mode \\\n",
    "     --from infant_samples.txt"
   ]
  },
  {
   "cell_type": "code",
   "execution_count": 64,
   "metadata": {},
   "outputs": [
    {
     "name": "stdout",
     "output_type": "stream",
     "text": [
      "Category value\tcount\r\n",
      "Cesarea\t47\r\n",
      "Vaginal\t135\r\n",
      "CSseed\t335\r\n",
      "Vag\t689\r\n",
      "CS\t970\r\n"
     ]
    }
   ],
   "source": [
    "# check sample balance in modes of delivery\n",
    "!redbiom summarize metadata-category \\\n",
    "  --counter \\\n",
    "  --category birth_mode"
   ]
  },
  {
   "cell_type": "code",
   "execution_count": 65,
   "metadata": {},
   "outputs": [
    {
     "name": "stdout",
     "output_type": "stream",
     "text": [
      "10581\t54\r\n",
      "10918\t30\r\n",
      "11076\t19\r\n",
      "1064\t15\r\n",
      "11358\t10\r\n",
      "11947\t10\r\n",
      "2010\t4\r\n",
      "10512\t3\r\n",
      "11284\t1\r\n",
      "\r\n",
      "Total samples\t146\r\n"
     ]
    }
   ],
   "source": [
    "# summarize samples over study id category\n",
    "!redbiom summarize samples \\\n",
    "  --category qiita_study_id \\\n",
    "  --from infant_samples.txt"
   ]
  },
  {
   "cell_type": "markdown",
   "metadata": {},
   "source": [
    "## _Supprot Protocols:_ Exporting QIIME 2 data"
   ]
  },
  {
   "cell_type": "markdown",
   "metadata": {},
   "source": [
    "A sample export of the SEPP insertion tree"
   ]
  },
  {
   "cell_type": "code",
   "execution_count": 66,
   "metadata": {},
   "outputs": [],
   "source": [
    "sepp_tree.tree.export_data('extracted-insertion-tree')"
   ]
  },
  {
   "cell_type": "markdown",
   "metadata": {},
   "source": [
    "## _Support protocols:_ Analysis of shotgun metagenomic data"
   ]
  },
  {
   "cell_type": "markdown",
   "metadata": {},
   "source": [
    "### 1. Download sample data"
   ]
  },
  {
   "cell_type": "code",
   "execution_count": 67,
   "metadata": {},
   "outputs": [
    {
     "name": "stdout",
     "output_type": "stream",
     "text": [
      "--2020-01-14 09:55:32--  https://github.com/qiime2/q2-shogun/raw/master/q2_shogun/tests/data/query.qza\n",
      "Resolving github.com (github.com)... 192.30.255.113\n",
      "Connecting to github.com (github.com)|192.30.255.113|:443... connected.\n",
      "HTTP request sent, awaiting response... 302 Found\n",
      "Location: https://raw.githubusercontent.com/qiime2/q2-shogun/master/q2_shogun/tests/data/query.qza [following]\n",
      "--2020-01-14 09:55:32--  https://raw.githubusercontent.com/qiime2/q2-shogun/master/q2_shogun/tests/data/query.qza\n",
      "Resolving raw.githubusercontent.com (raw.githubusercontent.com)... 151.101.196.133\n",
      "Connecting to raw.githubusercontent.com (raw.githubusercontent.com)|151.101.196.133|:443... connected.\n",
      "HTTP request sent, awaiting response... 200 OK\n",
      "Length: 12700 (12K) [application/octet-stream]\n",
      "Saving to: ‘query.qza’\n",
      "\n",
      "query.qza           100%[===================>]  12.40K  --.-KB/s    in 0.007s  \n",
      "\n",
      "2020-01-14 09:55:33 (1.82 MB/s) - ‘query.qza’ saved [12700/12700]\n",
      "\n",
      "--2020-01-14 09:55:33--  https://github.com/qiime2/q2-shogun/raw/master/q2_shogun/tests/data/refseqs.qza\n",
      "Resolving github.com (github.com)... 192.30.255.113\n",
      "Connecting to github.com (github.com)|192.30.255.113|:443... connected.\n",
      "HTTP request sent, awaiting response... 302 Found\n",
      "Location: https://raw.githubusercontent.com/qiime2/q2-shogun/master/q2_shogun/tests/data/refseqs.qza [following]\n",
      "--2020-01-14 09:55:33--  https://raw.githubusercontent.com/qiime2/q2-shogun/master/q2_shogun/tests/data/refseqs.qza\n",
      "Resolving raw.githubusercontent.com (raw.githubusercontent.com)... 151.101.196.133\n",
      "Connecting to raw.githubusercontent.com (raw.githubusercontent.com)|151.101.196.133|:443... connected.\n",
      "HTTP request sent, awaiting response... 200 OK\n",
      "Length: 228472 (223K) [application/octet-stream]\n",
      "Saving to: ‘refseqs.qza’\n",
      "\n",
      "refseqs.qza         100%[===================>] 223.12K  --.-KB/s    in 0.09s   \n",
      "\n",
      "2020-01-14 09:55:33 (2.47 MB/s) - ‘refseqs.qza’ saved [228472/228472]\n",
      "\n",
      "--2020-01-14 09:55:33--  https://github.com/qiime2/q2-shogun/raw/master/q2_shogun/tests/data/taxonomy.qza\n",
      "Resolving github.com (github.com)... 192.30.255.113\n",
      "Connecting to github.com (github.com)|192.30.255.113|:443... connected.\n",
      "HTTP request sent, awaiting response... 302 Found\n",
      "Location: https://raw.githubusercontent.com/qiime2/q2-shogun/master/q2_shogun/tests/data/taxonomy.qza [following]\n",
      "--2020-01-14 09:55:34--  https://raw.githubusercontent.com/qiime2/q2-shogun/master/q2_shogun/tests/data/taxonomy.qza\n",
      "Resolving raw.githubusercontent.com (raw.githubusercontent.com)... 151.101.196.133\n",
      "Connecting to raw.githubusercontent.com (raw.githubusercontent.com)|151.101.196.133|:443... connected.\n",
      "HTTP request sent, awaiting response... 200 OK\n",
      "Length: 4293 (4.2K) [application/octet-stream]\n",
      "Saving to: ‘taxonomy.qza’\n",
      "\n",
      "taxonomy.qza        100%[===================>]   4.19K  --.-KB/s    in 0.001s  \n",
      "\n",
      "2020-01-14 09:55:34 (3.24 MB/s) - ‘taxonomy.qza’ saved [4293/4293]\n",
      "\n",
      "--2020-01-14 09:55:34--  https://github.com/qiime2/q2-shogun/raw/master/q2_shogun/tests/data/bt2-database.qza\n",
      "Resolving github.com (github.com)... 192.30.255.113\n",
      "Connecting to github.com (github.com)|192.30.255.113|:443... connected.\n",
      "HTTP request sent, awaiting response... 302 Found\n",
      "Location: https://raw.githubusercontent.com/qiime2/q2-shogun/master/q2_shogun/tests/data/bt2-database.qza [following]\n",
      "--2020-01-14 09:55:35--  https://raw.githubusercontent.com/qiime2/q2-shogun/master/q2_shogun/tests/data/bt2-database.qza\n",
      "Resolving raw.githubusercontent.com (raw.githubusercontent.com)... 151.101.196.133\n",
      "Connecting to raw.githubusercontent.com (raw.githubusercontent.com)|151.101.196.133|:443... connected.\n",
      "HTTP request sent, awaiting response... 200 OK\n",
      "Length: 2552396 (2.4M) [application/octet-stream]\n",
      "Saving to: ‘bt2-database.qza’\n",
      "\n",
      "bt2-database.qza    100%[===================>]   2.43M  1.44MB/s    in 1.7s    \n",
      "\n",
      "2020-01-14 09:55:37 (1.44 MB/s) - ‘bt2-database.qza’ saved [2552396/2552396]\n",
      "\n"
     ]
    }
   ],
   "source": [
    "!for i in query refseqs taxonomy bt2-database; \\\n",
    " do wget https://github.com/qiime2/q2-shogun/raw/master/q2_shogun/tests/data/$i.qza; done"
   ]
  },
  {
   "cell_type": "code",
   "execution_count": 68,
   "metadata": {},
   "outputs": [],
   "source": [
    "shogun_query = qiime2.Artifact.load(workdir + '/query.qza')"
   ]
  },
  {
   "cell_type": "code",
   "execution_count": 69,
   "metadata": {},
   "outputs": [],
   "source": [
    "shogun_refseqs = qiime2.Artifact.load(workdir + '/refseqs.qza')"
   ]
  },
  {
   "cell_type": "code",
   "execution_count": 70,
   "metadata": {},
   "outputs": [],
   "source": [
    "shogun_taxonomy = qiime2.Artifact.load(workdir + '/taxonomy.qza')"
   ]
  },
  {
   "cell_type": "code",
   "execution_count": 71,
   "metadata": {},
   "outputs": [],
   "source": [
    "bowtie2_db = qiime2.Artifact.load(workdir + '/bt2-database.qza')"
   ]
  },
  {
   "cell_type": "markdown",
   "metadata": {},
   "source": [
    "### 2. Run shotgun metagenomics pipeline"
   ]
  },
  {
   "cell_type": "code",
   "execution_count": 72,
   "metadata": {},
   "outputs": [
    {
     "name": "stderr",
     "output_type": "stream",
     "text": [
      "/home/drz/Conda/envs/qiime2-2019.10/lib/python3.6/site-packages/q2_shogun/_shogun.py:38: FutureWarning: The signature of `Series.to_csv` was aligned to that of `DataFrame.to_csv`, and argument 'header' will change its default value from False to True: please pass an explicit value to suppress this warning.\n",
      "  reftaxa.to_csv(os.path.join(tmpdir, 'taxa.tsv'), sep='\\t')\n"
     ]
    },
    {
     "name": "stdout",
     "output_type": "stream",
     "text": [
      "Running external command line application. This may print messages to stdout and/or stderr.\n",
      "The command being run is below. This command cannot be manually re-run as it will depend on temporary files that no longer exist.\n",
      "\n",
      "Command: shogun align -i /tmp/qiime2-archive-dm3bzaf7/dbea837c-7ad7-4706-8c1f-1155a8c7ee3a/data/dna-sequences.fasta -d /tmp/tmpxt3cvklt -o /tmp/tmpxt3cvklt -a bowtie2 -x 0.8 -t 1 -p 0.98\n",
      "\n",
      "Running external command line application. This may print messages to stdout and/or stderr.\n",
      "The command being run is below. This command cannot be manually re-run as it will depend on temporary files that no longer exist.\n",
      "\n",
      "Command: shogun assign_taxonomy -i /tmp/tmpxt3cvklt/alignment.bowtie2.sam -d /tmp/tmpxt3cvklt -o /tmp/tmpxt3cvklt/taxatable.tsv -a bowtie2\n",
      "\n"
     ]
    }
   ],
   "source": [
    "taxa_table = shogun.methods.nobunaga(query=shogun_query,\n",
    "                                     reference_reads=shogun_refseqs,\n",
    "                                     reference_taxonomy=shogun_taxonomy,\n",
    "                                     database=bowtie2_db)"
   ]
  }
 ],
 "metadata": {
  "kernelspec": {
   "display_name": "Python 3",
   "language": "python",
   "name": "python3"
  },
  "language_info": {
   "codemirror_mode": {
    "name": "ipython",
    "version": 3
   },
   "file_extension": ".py",
   "mimetype": "text/x-python",
   "name": "python",
   "nbconvert_exporter": "python",
   "pygments_lexer": "ipython3",
   "version": "3.6.7"
  }
 },
 "nbformat": 4,
 "nbformat_minor": 2
}
